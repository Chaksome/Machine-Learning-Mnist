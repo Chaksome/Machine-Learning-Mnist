{
  "nbformat": 4,
  "nbformat_minor": 0,
  "metadata": {
    "colab": {
      "name": "myCNN.ipynb",
      "provenance": [],
      "collapsed_sections": [],
      "authorship_tag": "ABX9TyOtNJHU4IltagylNsgKQSZx",
      "include_colab_link": true
    },
    "kernelspec": {
      "name": "python3",
      "display_name": "Python 3"
    },
    "language_info": {
      "name": "python"
    }
  },
  "cells": [
    {
      "cell_type": "markdown",
      "metadata": {
        "id": "view-in-github",
        "colab_type": "text"
      },
      "source": [
        "<a href=\"https://colab.research.google.com/github/Chaksome/Machine-Learning-Mnist/blob/main/myCNN.ipynb\" target=\"_parent\"><img src=\"https://colab.research.google.com/assets/colab-badge.svg\" alt=\"Open In Colab\"/></a>"
      ]
    },
    {
      "cell_type": "code",
      "source": [
        "%%time\n",
        "import numpy as np\n",
        "import tensorflow as tf\n",
        "from tensorflow.keras import layers\n",
        "from tensorflow.keras.models import Sequential"
      ],
      "metadata": {
        "colab": {
          "base_uri": "https://localhost:8080/"
        },
        "id": "WcSf-oB2dPit",
        "outputId": "875cffad-d4f9-48ff-ed5a-cfadf88e7ad8"
      },
      "execution_count": 2,
      "outputs": [
        {
          "output_type": "stream",
          "name": "stdout",
          "text": [
            "CPU times: user 23 µs, sys: 0 ns, total: 23 µs\n",
            "Wall time: 28.1 µs\n"
          ]
        }
      ]
    },
    {
      "cell_type": "code",
      "source": [
        "import numpy as np\n",
        "import random\n",
        "from keras.datasets import mnist\n",
        "from keras.models import Sequential\n",
        "from keras.layers import Dense, Dropout, Activation, Flatten\n",
        "from keras.layers import Convolution2D, MaxPooling2D\n",
        "from keras.utils import np_utils\n",
        "import matplotlib.pyplot as plt\n",
        "\n",
        "!pip install tensorlayer\n",
        "import tensorflow as tf\n",
        "from tensorflow.python.framework import ops\n",
        "from tensorflow.python.ops import math_ops\n",
        "from tensorflow.python.training import moving_averages\n",
        "import tensorlayer as tl\n",
        "from tensorlayer import logging\n",
        "from tensorlayer.layers.core import Layer"
      ],
      "metadata": {
        "id": "cJo07GlmdUQN",
        "colab": {
          "base_uri": "https://localhost:8080/",
          "height": 1000
        },
        "outputId": "a46d0544-fef0-400f-ff42-4b51fc8e3160"
      },
      "execution_count": 3,
      "outputs": [
        {
          "output_type": "stream",
          "name": "stdout",
          "text": [
            "Collecting tensorlayer\n",
            "  Downloading tensorlayer-2.2.3-py3-none-any.whl (363 kB)\n",
            "\u001b[K     |████████████████████████████████| 363 kB 16.0 MB/s \n",
            "\u001b[?25hRequirement already satisfied: scipy>=1.2.1 in /usr/local/lib/python3.7/dist-packages (from tensorlayer) (1.4.1)\n",
            "Collecting imageio>=2.5.0\n",
            "  Downloading imageio-2.13.5-py3-none-any.whl (3.3 MB)\n",
            "\u001b[K     |████████████████████████████████| 3.3 MB 55.0 MB/s \n",
            "\u001b[?25hRequirement already satisfied: scikit-image>=0.15.0 in /usr/local/lib/python3.7/dist-packages (from tensorlayer) (0.18.3)\n",
            "Requirement already satisfied: h5py>=2.9 in /usr/local/lib/python3.7/dist-packages (from tensorlayer) (3.1.0)\n",
            "Requirement already satisfied: wrapt>=1.11.1 in /usr/local/lib/python3.7/dist-packages (from tensorlayer) (1.13.3)\n",
            "Collecting progressbar2>=3.39.3\n",
            "  Downloading progressbar2-3.55.0-py2.py3-none-any.whl (26 kB)\n",
            "Requirement already satisfied: numpy>=1.16 in /usr/local/lib/python3.7/dist-packages (from tensorlayer) (1.19.5)\n",
            "Requirement already satisfied: requests>=2.21.0 in /usr/local/lib/python3.7/dist-packages (from tensorlayer) (2.23.0)\n",
            "Requirement already satisfied: scikit-learn>=0.21.0 in /usr/local/lib/python3.7/dist-packages (from tensorlayer) (1.0.1)\n",
            "Requirement already satisfied: cloudpickle>=0.8.1 in /usr/local/lib/python3.7/dist-packages (from tensorlayer) (1.3.0)\n",
            "Requirement already satisfied: cached-property in /usr/local/lib/python3.7/dist-packages (from h5py>=2.9->tensorlayer) (1.5.2)\n",
            "Collecting pillow>=8.3.2\n",
            "  Downloading Pillow-8.4.0-cp37-cp37m-manylinux_2_17_x86_64.manylinux2014_x86_64.whl (3.1 MB)\n",
            "\u001b[K     |████████████████████████████████| 3.1 MB 46.7 MB/s \n",
            "\u001b[?25hRequirement already satisfied: six in /usr/local/lib/python3.7/dist-packages (from progressbar2>=3.39.3->tensorlayer) (1.15.0)\n",
            "Requirement already satisfied: python-utils>=2.3.0 in /usr/local/lib/python3.7/dist-packages (from progressbar2>=3.39.3->tensorlayer) (2.5.6)\n",
            "Requirement already satisfied: urllib3!=1.25.0,!=1.25.1,<1.26,>=1.21.1 in /usr/local/lib/python3.7/dist-packages (from requests>=2.21.0->tensorlayer) (1.24.3)\n",
            "Requirement already satisfied: certifi>=2017.4.17 in /usr/local/lib/python3.7/dist-packages (from requests>=2.21.0->tensorlayer) (2021.10.8)\n",
            "Requirement already satisfied: chardet<4,>=3.0.2 in /usr/local/lib/python3.7/dist-packages (from requests>=2.21.0->tensorlayer) (3.0.4)\n",
            "Requirement already satisfied: idna<3,>=2.5 in /usr/local/lib/python3.7/dist-packages (from requests>=2.21.0->tensorlayer) (2.10)\n",
            "Requirement already satisfied: matplotlib!=3.0.0,>=2.0.0 in /usr/local/lib/python3.7/dist-packages (from scikit-image>=0.15.0->tensorlayer) (3.2.2)\n",
            "Requirement already satisfied: PyWavelets>=1.1.1 in /usr/local/lib/python3.7/dist-packages (from scikit-image>=0.15.0->tensorlayer) (1.2.0)\n",
            "Requirement already satisfied: networkx>=2.0 in /usr/local/lib/python3.7/dist-packages (from scikit-image>=0.15.0->tensorlayer) (2.6.3)\n",
            "Requirement already satisfied: tifffile>=2019.7.26 in /usr/local/lib/python3.7/dist-packages (from scikit-image>=0.15.0->tensorlayer) (2021.11.2)\n",
            "Requirement already satisfied: pyparsing!=2.0.4,!=2.1.2,!=2.1.6,>=2.0.1 in /usr/local/lib/python3.7/dist-packages (from matplotlib!=3.0.0,>=2.0.0->scikit-image>=0.15.0->tensorlayer) (3.0.6)\n",
            "Requirement already satisfied: python-dateutil>=2.1 in /usr/local/lib/python3.7/dist-packages (from matplotlib!=3.0.0,>=2.0.0->scikit-image>=0.15.0->tensorlayer) (2.8.2)\n",
            "Requirement already satisfied: cycler>=0.10 in /usr/local/lib/python3.7/dist-packages (from matplotlib!=3.0.0,>=2.0.0->scikit-image>=0.15.0->tensorlayer) (0.11.0)\n",
            "Requirement already satisfied: kiwisolver>=1.0.1 in /usr/local/lib/python3.7/dist-packages (from matplotlib!=3.0.0,>=2.0.0->scikit-image>=0.15.0->tensorlayer) (1.3.2)\n",
            "Requirement already satisfied: threadpoolctl>=2.0.0 in /usr/local/lib/python3.7/dist-packages (from scikit-learn>=0.21.0->tensorlayer) (3.0.0)\n",
            "Requirement already satisfied: joblib>=0.11 in /usr/local/lib/python3.7/dist-packages (from scikit-learn>=0.21.0->tensorlayer) (1.1.0)\n",
            "Installing collected packages: pillow, imageio, progressbar2, tensorlayer\n",
            "  Attempting uninstall: pillow\n",
            "    Found existing installation: Pillow 7.1.2\n",
            "    Uninstalling Pillow-7.1.2:\n",
            "      Successfully uninstalled Pillow-7.1.2\n",
            "  Attempting uninstall: imageio\n",
            "    Found existing installation: imageio 2.4.1\n",
            "    Uninstalling imageio-2.4.1:\n",
            "      Successfully uninstalled imageio-2.4.1\n",
            "  Attempting uninstall: progressbar2\n",
            "    Found existing installation: progressbar2 3.38.0\n",
            "    Uninstalling progressbar2-3.38.0:\n",
            "      Successfully uninstalled progressbar2-3.38.0\n",
            "\u001b[31mERROR: pip's dependency resolver does not currently take into account all the packages that are installed. This behaviour is the source of the following dependency conflicts.\n",
            "albumentations 0.1.12 requires imgaug<0.2.7,>=0.2.5, but you have imgaug 0.2.9 which is incompatible.\u001b[0m\n",
            "Successfully installed imageio-2.13.5 pillow-8.4.0 progressbar2-3.55.0 tensorlayer-2.2.3\n"
          ]
        },
        {
          "output_type": "display_data",
          "data": {
            "application/vnd.colab-display-data+json": {
              "pip_warning": {
                "packages": [
                  "PIL"
                ]
              }
            }
          },
          "metadata": {}
        }
      ]
    },
    {
      "cell_type": "code",
      "source": [
        "(X_train, y_train), (X_test, y_test) = mnist.load_data()\n",
        "#visulization\n",
        "mu = 0\n",
        "sigma = 10\n",
        "#X_train = (X_train+np.random.normal(mu, sigma,size=X_train.shape))%255\n",
        "#X_test = (X_test+np.random.normal(mu, sigma,size=X_test.shape))%255"
      ],
      "metadata": {
        "id": "A6GKzvyedYB9",
        "colab": {
          "base_uri": "https://localhost:8080/"
        },
        "outputId": "58742187-d401-4560-a8a4-87fd3f3e12f0"
      },
      "execution_count": 4,
      "outputs": [
        {
          "output_type": "stream",
          "name": "stdout",
          "text": [
            "Downloading data from https://storage.googleapis.com/tensorflow/tf-keras-datasets/mnist.npz\n",
            "11493376/11490434 [==============================] - 0s 0us/step\n",
            "11501568/11490434 [==============================] - 0s 0us/step\n"
          ]
        }
      ]
    },
    {
      "cell_type": "code",
      "source": [
        "plt.rcParams['figure.figsize'] = (9,9) # Make the figures a bit bigger\n",
        "\n",
        "for i in range(9):\n",
        "    plt.subplot(3,3,i+1)\n",
        "    num = random.randint(0, len(X_train));\n",
        "    plt.imshow(X_train[num], cmap='gray', interpolation='none')\n",
        "    plt.title(\"Class {}\".format(y_train[num]))"
      ],
      "metadata": {
        "colab": {
          "base_uri": "https://localhost:8080/",
          "height": 553
        },
        "id": "XCNYUgiNdfvs",
        "outputId": "2c998929-91ae-4c88-8b8c-ef0ce6f29f9e"
      },
      "execution_count": null,
      "outputs": [
        {
          "output_type": "display_data",
          "data": {
            "image/png": "[encoded data removed]",
            "text/plain": [
              "<Figure size 648x648 with 9 Axes>"
            ]
          },
          "metadata": {
            "needs_background": "light"
          }
        }
      ]
    },
    {
      "cell_type": "code",
      "source": [
        "# input image dimensions\n",
        "img_rows, img_cols = 28, 28\n",
        "# number of convolutional filters to use\n",
        "nb_filters = 32\n",
        "# size of pooling area for max pooling\n",
        "pool_size = (2, 2)\n",
        "# convolution kernel size\n",
        "kernel_size = (3, 3)\n",
        "batch_size = 128\n",
        "nb_classes = 10\n",
        "nb_epoch = 1"
      ],
      "metadata": {
        "id": "CH0_f2rYdmER"
      },
      "execution_count": 5,
      "outputs": []
    },
    {
      "cell_type": "code",
      "source": [
        "X_train = X_train.reshape(X_train.shape[0], img_rows, img_cols,1)\n",
        "X_test = X_test.reshape(X_test.shape[0], img_rows, img_cols,1)\n",
        "input_shape = (img_rows, img_cols,1)\n",
        "X_train = X_train.astype('float32')\n",
        "X_test = X_test.astype('float32')\n",
        "X_train /= 255.0\n",
        "X_test /= 255.0\n",
        "Y_train = np_utils.to_categorical(y_train, nb_classes)\n",
        "Y_test = np_utils.to_categorical(y_test, nb_classes)"
      ],
      "metadata": {
        "id": "hAP8fuTzdkLn"
      },
      "execution_count": 6,
      "outputs": []
    },
    {
      "cell_type": "code",
      "source": [
        "#抗扭斜函数\n",
        "from scipy.ndimage import interpolation\n",
        "\n",
        "def moments(image):#计算图片的矩\n",
        "    c0,c1 = np.mgrid[:image.shape[0],:image.shape[1]] \n",
        "    totalImage = np.sum(image) \n",
        "    m0 = np.sum(c0*image)/totalImage \n",
        "    m1 = np.sum(c1*image)/totalImage \n",
        "    m00 = np.sum((c0-m0)**2*image)/totalImage \n",
        "    m11 = np.sum((c1-m1)**2*image)/totalImage \n",
        "    m01 = np.sum((c0-m0)*(c1-m1)*image)/totalImage \n",
        "    mu_vector = np.array([m0,m1]) \n",
        "    covariance_matrix = np.array([[m00,m01],[m01,m11]]) \n",
        "    return mu_vector, covariance_matrix\n",
        "\n",
        "def deskew(image):#根据计算结果旋转图片，抗扭斜\n",
        "    c,v = moments(image)\n",
        "    alpha = v[0,1]/v[0,0]\n",
        "    affine = np.array([[1,0],[alpha,1]])\n",
        "    ocenter = np.array(image.shape)/2.0\n",
        "    offset = c-np.dot(affine,ocenter)\n",
        "    return interpolation.affine_transform(image,affine,offset=offset)\n",
        "def deskewAll(X):\n",
        "    currents = []\n",
        "    for i in range(len(X)):\n",
        "        currents.append(deskew(X[i].reshape(28,28)))\n",
        "    return np.array(currents)"
      ],
      "metadata": {
        "id": "Z0tqO2Fofdfp"
      },
      "execution_count": null,
      "outputs": []
    },
    {
      "cell_type": "code",
      "source": [
        "#下面是对CNN的一些梳理及注解\n",
        "import numpy as np\n",
        "#先定义卷积层\n",
        "class Conv2D(object):\n",
        "    def __init__(self, in_channel, out_channel, kernel_size, lr=0.01, stride = 1, pad = 1, momentum=0.9, reg = 0.75, name='Conv'):\n",
        "        self.w = np.random.randn(out_channel,in_channel, kernel_size, kernel_size)    #初始化权重，变量的初始值，来自于截取正态分布中的数据。\n",
        "        self.b = np.random.randn(out_channel)#初始化偏置量\n",
        "        w_shape = (out_channel,in_channel, kernel_size, kernel_size)#其中filter的结构为：[filter_height, filter_width, in_channels, out_channels]。\n",
        "        self.layer_name = name\n",
        "        self.lr = lr#定义学习率\n",
        "        self.momentum = momentum\n",
        "        self.stride = stride\n",
        "        self.pad = pad\n",
        "        self.reg = reg\n",
        "\n",
        "        self.pre_gradient_w = np.zeros_like(self.w)#定义先前的权重梯度量\n",
        "        self.pre_gradient_b = np.zeros_like(self.b)#定义先前的偏置梯度量\n",
        "    #前馈网络\n",
        "    def forward(self, in_data):\n",
        "        self.out = None\n",
        "        N, C, H, W = in_data.shape\n",
        "        F, _, Hk, Wk = self.w.shape                                            #F是out_channel,HH是kernel_size,ww是kernel_size;\n",
        "        stride, pad = self.stride, self.pad\n",
        "        H_out = int(1 + (H + 2 * pad - Hk) / stride)                           #计算纵向卷积需要滑几步\n",
        "        W_out = int(1 + (W + 2 * pad - Wk) / stride)                           #计算横向卷积需要滑几步\n",
        "        self.out = np.zeros((N , F , H_out, W_out))\n",
        "\n",
        "        in_data_pad = np.pad(in_data, ((0,), (0,), (pad,), (pad,)), mode='constant', constant_values=0) #边缘填充，这里上下左右各填一个像素\"same\"\n",
        "        for i in range(H_out):\n",
        "            for j in range(W_out):\n",
        "                in_data_pad_masked = in_data_pad[:, :, i*stride:i*stride+Hk, j*stride:j*stride+Wk]\n",
        "                for k in range(F):\n",
        "                    self.out[:, k , i, j] = np.sum(in_data_pad_masked * self.w[k, :, :, :], axis=(1,2,3))+ self.b[k] #输出为权重乘原输入加偏置\n",
        "        self.bottom_val = in_data#以输入值为底层值\n",
        "        return self.out\n",
        "#反向传播\n",
        "    def backward(self, value):\n",
        "        N, C, H, W = self.bottom_val.shape\n",
        "        F, _, Hk, Wk = self.w.shape\n",
        "        stride, pad = self.stride, self.pad\n",
        "        H_out = int(1 + (H + 2 * pad - Hk) / stride)\n",
        "        W_out = int(1 + (W + 2 * pad - Wk) / stride)\n",
        "\n",
        "        x_pad = np.pad(self.bottom_val, ((0,), (0,), (pad,), (pad,)), mode='constant', constant_values=0)\n",
        "        dx = np.zeros_like(self.bottom_val)\n",
        "        dw = np.zeros_like(self.w)#定义权重偏导\n",
        "        db = np.sum(value, axis=(0, 2, 3))#定义偏置偏导\n",
        "        rot_w = np.rot90(self.w,2,(2,3))    #得到w的倒置矩阵，此处只交换2、3维 \n",
        "        pad_diff_H = Hk - (1 + pad)\n",
        "        pad_diff_W = Wk - (1 + pad)\n",
        "        value_pad = np.pad(value, ((0,), (0,), (pad_diff_H,), (pad_diff_W,)), mode='constant', constant_values=0)  #数据填充\n",
        "        \n",
        "        for i in range(H_out):      # 计算dx，即对输入的偏导\n",
        "            for j in range(W_out):\n",
        "                value_pad_masked = value_pad[:, :, i*stride:i*stride+Hk, j*stride:j*stride+Wk]\n",
        "                for h in range(C):\n",
        "                    dx[:, h , i, j] = np.sum(value_pad_masked[:,:,:,:] * rot_w[:, h, :, :], axis=(1,2,3))    \n",
        "        \n",
        "        for m in range(HH):         #计算dw，即权重偏导\n",
        "            for n in range(WW):\n",
        "                x_pad_masked_d = x_pad[:, :, m * stride:m * stride + H_out, n * stride:n * stride + W_out]\n",
        "                for k in range(F):\n",
        "                    for p in range(C):\n",
        "                        dw[k, p, m, n] = np.sum(x_pad_masked_d[:,p,:,:] * value[:, k, :, :], axis=(0,1,2)) \n",
        "        self.w -= self.lr * (dw + self.prev_gradient_w * self.reg)#根据学习率更新权重\n",
        "        self.b -= self.lr * db#根据学习率更新偏置\n",
        "        self.pre_gradient_w = self.w#循环\n",
        "        return dx\n",
        "#定义激活函数层，在keras中该层并不单独成层\n",
        "class ReLU:\n",
        "    def __init__(self, name='ReLU'):\n",
        "        pass\n",
        "    def forward(self, in_data):\n",
        "        in_data[in_data<0] = 0 #小于0的都变成0\n",
        "        self.top_val = in_data\n",
        "        return in_data\n",
        "    def backward(self, value):\n",
        "        return (self.top_val > 0) * value # 此处为relu激活函数\n",
        "\n",
        "\n",
        "\n",
        "#定义池化层\n",
        "class MaxPooling:\n",
        "    def __init__(self, kernel_size, stride = 1, name='MaxPool'):\n",
        "        self.kernel_size = kernel_size#定义核大小\n",
        "        self.stride = stride#定义stride\n",
        "    def forward(self, in_data):\n",
        "        self.bottom_val = in_data#以输入值为底层值\n",
        "        N, C, H, W = in_data.shape#默认NHWC，表示4维数据，[batch,height,width,channels].\n",
        "        Hk, Wk, stride = self.kernel_size, self.kernel_size, self.stride       #正方kernel\n",
        "        H_out = int((H - Hk) / stride + 1)                                     #计算纵向需要滑行步数\n",
        "        W_out = int((W - Wk) / stride + 1)                                     #计算横向需要滑行步数\n",
        "        out = np.zeros((N, C, H_out, W_out))  #得到输出值的尺寸为(N, C, H_out, W_out)\n",
        "        for i in range(H_out):\n",
        "            for j in range(W_out):\n",
        "                x_masked = in_data[:, :, i * stride: i * stride + HH, j * stride: j * stride + WW]\n",
        "                out[:, :, i, j] = np.max(x_masked, axis=(2, 3))#最大值池化\n",
        "        return out#输出池化结果\n",
        "    def backward(self, value):\n",
        "        N, C, H, W = self.bottom_val.shape\n",
        "        Hk, Wk, stride = self.kernel_size, self.kernel_size, self.stride\n",
        "        H_out = int((H - Hk) / stride + 1)                                     #计算纵向需要滑行步数\n",
        "        W_out = int((W - Wk) / stride + 1)                                     #计算横向需要滑行步数\n",
        "        dx = np.zeros_like(self.bottom_val)\n",
        "\n",
        "        for i in range(H_out):\n",
        "            for j in range(W_out):\n",
        "                x_masked = self.bottom_val[:, :, i * stride: i * stride + HH, j * stride: j * stride + WW]\n",
        "                max_x_masked = np.max(x_masked, axis=(2, 3))\n",
        "                temp_binary_mask = (x_masked == (max_x_masked)[:, :, None, None])#寻找最大值对应的位置\n",
        "                dx[:, :, i * stride: i * stride + HH, j * stride: j * stride + WW] += temp_binary_mask * (value[:, :, i,j])[:, :,None, None]#求局域偏导\n",
        "        return dx#上采样返回局域偏导\n",
        "\n",
        "#定义全连接层\n",
        "class Flatten:\n",
        "    def __init__(self, name='Flatten'):\n",
        "        pass\n",
        "    def forward(self, in_data):\n",
        "        self.in_batch, self.in_channel, self.height, self.length = in_data.shape#记录数据的shape\n",
        "        return in_data.reshape(self.in_batch, self.in_channel * self.height * self.length)#reshape成一维长链，全连接且总数相同   \n",
        "    def backward(self, residual):\n",
        "        return residual.reshape(self.in_batch, self.in_channel, self.height, self.length)#reshape成一维长链,全连接且总数相同   \n",
        "\n",
        "#定义输出层\n",
        "class Softmax:\n",
        "    def __init__(self, name='Softmax'):\n",
        "        pass\n",
        "    def forward(self, in_data):\n",
        "        shift_scores = in_data - np.max(in_data, axis=1).reshape(-1, 1)#在该行中找到最大的数字，每行中10个数都减去这个数\n",
        "        self.top_val = np.exp(shift_scores) / np.sum(np.exp(shift_scores), axis=1).reshape(-1, 1)#reshape成(none,1)\n",
        "        return self.top_val#输出最高层值\n",
        "    def backward(self, value):\n",
        "        N = value.shape[0]\n",
        "        d_scores = self.top_val.copy()\n",
        "        d_scores[range(N), list(value)] -= 1   #loss对softmax层的求导\n",
        "        d_scores /= N\n",
        "        return d_scores#返回梯度下降后的值偏导"
      ],
      "metadata": {
        "id": "5M-q2ZzVNMw5"
      },
      "execution_count": 33,
      "outputs": []
    },
    {
      "cell_type": "code",
      "execution_count": 18,
      "metadata": {
        "id": "NAsqDt09dMjJ",
        "colab": {
          "base_uri": "https://localhost:8080/"
        },
        "outputId": "5b0fabeb-ad8a-4946-e8ad-a1cf7f41e3c1"
      },
      "outputs": [
        {
          "output_type": "stream",
          "name": "stdout",
          "text": [
            "Model: \"sequential_2\"\n",
            "_________________________________________________________________\n",
            " Layer (type)                Output Shape              Param #   \n",
            "=================================================================\n",
            " conv2d_12 (Conv2D)          (None, 26, 26, 28)        280       \n",
            "                                                                 \n",
            " batch_normalization_14 (Bat  (None, 26, 26, 28)       112       \n",
            " chNormalization)                                                \n",
            "                                                                 \n",
            " conv2d_13 (Conv2D)          (None, 24, 24, 28)        7084      \n",
            "                                                                 \n",
            " batch_normalization_15 (Bat  (None, 24, 24, 28)       112       \n",
            " chNormalization)                                                \n",
            "                                                                 \n",
            " conv2d_14 (Conv2D)          (None, 12, 12, 28)        19628     \n",
            "                                                                 \n",
            " batch_normalization_16 (Bat  (None, 12, 12, 28)       112       \n",
            " chNormalization)                                                \n",
            "                                                                 \n",
            " dropout_6 (Dropout)         (None, 12, 12, 28)        0         \n",
            "                                                                 \n",
            " conv2d_15 (Conv2D)          (None, 10, 10, 56)        14168     \n",
            "                                                                 \n",
            " batch_normalization_17 (Bat  (None, 10, 10, 56)       224       \n",
            " chNormalization)                                                \n",
            "                                                                 \n",
            " conv2d_16 (Conv2D)          (None, 8, 8, 56)          28280     \n",
            "                                                                 \n",
            " batch_normalization_18 (Bat  (None, 8, 8, 56)         224       \n",
            " chNormalization)                                                \n",
            "                                                                 \n",
            " conv2d_17 (Conv2D)          (None, 4, 4, 56)          78456     \n",
            "                                                                 \n",
            " batch_normalization_19 (Bat  (None, 4, 4, 56)         224       \n",
            " chNormalization)                                                \n",
            "                                                                 \n",
            " dropout_7 (Dropout)         (None, 4, 4, 56)          0         \n",
            "                                                                 \n",
            " flatten_2 (Flatten)         (None, 896)               0         \n",
            "                                                                 \n",
            " dense_4 (Dense)             (None, 256)               229632    \n",
            "                                                                 \n",
            " batch_normalization_20 (Bat  (None, 256)              1024      \n",
            " chNormalization)                                                \n",
            "                                                                 \n",
            " dropout_8 (Dropout)         (None, 256)               0         \n",
            "                                                                 \n",
            " dense_5 (Dense)             (None, 10)                2570      \n",
            "                                                                 \n",
            "=================================================================\n",
            "Total params: 382,130\n",
            "Trainable params: 381,114\n",
            "Non-trainable params: 1,016\n",
            "_________________________________________________________________\n"
          ]
        }
      ],
      "source": [
        "#最终模型如下所示，为方便优化，都基于Keras编程\n",
        "model = Sequential()\n",
        "input_shape = X_train.shape[1:]\n",
        "model.add(layers.Conv2D(28,kernel_size=3,activation='relu',input_shape=input_shape))#28C3S1的卷积层，输出为（None,26,26,28）\n",
        "model.add(layers.BatchNormalization())#BN归一化，其作用在整个batch上，沿着C维度对N,H,W三个维度进行归一化\n",
        "model.add(layers.Conv2D(28,kernel_size=3,activation='relu'))#28C3S1的卷积层，输出为（None,24,24,28）\n",
        "model.add(layers.BatchNormalization())#BN归一化，其作用在整个batch上，沿着C维度对N,H,W三个维度进行归一化\n",
        "model.add(layers.Conv2D(28,kernel_size=5,strides=2,padding='same',activation='relu'))#28C5S2的卷积层，输出为（None,12,12,28）\n",
        "model.add(layers.BatchNormalization())#BN归一化，其作用在整个batch上，沿着C维度对N,H,W三个维度进行归一化\n",
        "model.add(layers.Dropout(0.4))#随机失活0.4\n",
        "\n",
        "model.add(layers.Conv2D(56,kernel_size=3,activation='relu'))#56C3S1的卷积层，输出为（None,10,10,56）\n",
        "model.add(layers.BatchNormalization())#BN归一化，其作用在整个batch上，沿着C维度对N,H,W三个维度进行归一化\n",
        "model.add(layers.Conv2D(56,kernel_size=3,activation='relu'))#56C3S1的卷积层，输出为（None,8,8,56）\n",
        "model.add(layers.BatchNormalization())#BN归一化，其作用在整个batch上，沿着C维度对N,H,W三个维度进行归一化\n",
        "model.add(layers.Conv2D(56,kernel_size=5,strides=2,padding='same',activation='relu'))#56C5S2的卷积层，输出为（None,4,4,56）\n",
        "model.add(layers.BatchNormalization())#BN归一化，其作用在整个batch上，沿着C维度对N,H,W三个维度进行归一化\n",
        "model.add(layers.Dropout(0.4))#随机失活0.4\n",
        "\n",
        "model.add(layers.Flatten())#压缩，全连接层\n",
        "model.add(layers.Dense(256, activation='relu'))#隐藏全连接层，激活函数相同\n",
        "model.add(layers.BatchNormalization())#BN归一化，其作用在整个batch上，沿着C维度对N,H,W三个维度进行归一化\n",
        "model.add(layers.Dropout(0.4))\n",
        "model.add(layers.Dense(10, activation='softmax'))#输出层\n",
        "model.summary()\n",
        "model.compile(loss=\"categorical_crossentropy\", metrics=[\"accuracy\"])#误差函数选择\"categorical_crossentropy\""
      ]
    },
    {
      "cell_type": "code",
      "source": [
        "!pip install -q -U tensorflow-addons"
      ],
      "metadata": {
        "colab": {
          "base_uri": "https://localhost:8080/"
        },
        "id": "fvb35nT1OZ_s",
        "outputId": "d1687804-24f4-4fe3-c626-43ac907b3737"
      },
      "execution_count": null,
      "outputs": [
        {
          "output_type": "stream",
          "name": "stdout",
          "text": [
            "\u001b[?25l\r\u001b[K     |▎                               | 10 kB 20.7 MB/s eta 0:00:01\r\u001b[K     |▋                               | 20 kB 12.2 MB/s eta 0:00:01\r\u001b[K     |▉                               | 30 kB 10.0 MB/s eta 0:00:01\r\u001b[K     |█▏                              | 40 kB 9.1 MB/s eta 0:00:01\r\u001b[K     |█▌                              | 51 kB 5.3 MB/s eta 0:00:01\r\u001b[K     |█▊                              | 61 kB 5.6 MB/s eta 0:00:01\r\u001b[K     |██                              | 71 kB 5.3 MB/s eta 0:00:01\r\u001b[K     |██▍                             | 81 kB 5.9 MB/s eta 0:00:01\r\u001b[K     |██▋                             | 92 kB 6.2 MB/s eta 0:00:01\r\u001b[K     |███                             | 102 kB 5.1 MB/s eta 0:00:01\r\u001b[K     |███▎                            | 112 kB 5.1 MB/s eta 0:00:01\r\u001b[K     |███▌                            | 122 kB 5.1 MB/s eta 0:00:01\r\u001b[K     |███▉                            | 133 kB 5.1 MB/s eta 0:00:01\r\u001b[K     |████▏                           | 143 kB 5.1 MB/s eta 0:00:01\r\u001b[K     |████▍                           | 153 kB 5.1 MB/s eta 0:00:01\r\u001b[K     |████▊                           | 163 kB 5.1 MB/s eta 0:00:01\r\u001b[K     |█████                           | 174 kB 5.1 MB/s eta 0:00:01\r\u001b[K     |█████▎                          | 184 kB 5.1 MB/s eta 0:00:01\r\u001b[K     |█████▋                          | 194 kB 5.1 MB/s eta 0:00:01\r\u001b[K     |█████▉                          | 204 kB 5.1 MB/s eta 0:00:01\r\u001b[K     |██████▏                         | 215 kB 5.1 MB/s eta 0:00:01\r\u001b[K     |██████▌                         | 225 kB 5.1 MB/s eta 0:00:01\r\u001b[K     |██████▊                         | 235 kB 5.1 MB/s eta 0:00:01\r\u001b[K     |███████                         | 245 kB 5.1 MB/s eta 0:00:01\r\u001b[K     |███████▍                        | 256 kB 5.1 MB/s eta 0:00:01\r\u001b[K     |███████▋                        | 266 kB 5.1 MB/s eta 0:00:01\r\u001b[K     |████████                        | 276 kB 5.1 MB/s eta 0:00:01\r\u001b[K     |████████▎                       | 286 kB 5.1 MB/s eta 0:00:01\r\u001b[K     |████████▌                       | 296 kB 5.1 MB/s eta 0:00:01\r\u001b[K     |████████▉                       | 307 kB 5.1 MB/s eta 0:00:01\r\u001b[K     |█████████                       | 317 kB 5.1 MB/s eta 0:00:01\r\u001b[K     |█████████▍                      | 327 kB 5.1 MB/s eta 0:00:01\r\u001b[K     |█████████▊                      | 337 kB 5.1 MB/s eta 0:00:01\r\u001b[K     |██████████                      | 348 kB 5.1 MB/s eta 0:00:01\r\u001b[K     |██████████▎                     | 358 kB 5.1 MB/s eta 0:00:01\r\u001b[K     |██████████▋                     | 368 kB 5.1 MB/s eta 0:00:01\r\u001b[K     |██████████▉                     | 378 kB 5.1 MB/s eta 0:00:01\r\u001b[K     |███████████▏                    | 389 kB 5.1 MB/s eta 0:00:01\r\u001b[K     |███████████▌                    | 399 kB 5.1 MB/s eta 0:00:01\r\u001b[K     |███████████▊                    | 409 kB 5.1 MB/s eta 0:00:01\r\u001b[K     |████████████                    | 419 kB 5.1 MB/s eta 0:00:01\r\u001b[K     |████████████▍                   | 430 kB 5.1 MB/s eta 0:00:01\r\u001b[K     |████████████▋                   | 440 kB 5.1 MB/s eta 0:00:01\r\u001b[K     |█████████████                   | 450 kB 5.1 MB/s eta 0:00:01\r\u001b[K     |█████████████▎                  | 460 kB 5.1 MB/s eta 0:00:01\r\u001b[K     |█████████████▌                  | 471 kB 5.1 MB/s eta 0:00:01\r\u001b[K     |█████████████▉                  | 481 kB 5.1 MB/s eta 0:00:01\r\u001b[K     |██████████████                  | 491 kB 5.1 MB/s eta 0:00:01\r\u001b[K     |██████████████▍                 | 501 kB 5.1 MB/s eta 0:00:01\r\u001b[K     |██████████████▊                 | 512 kB 5.1 MB/s eta 0:00:01\r\u001b[K     |███████████████                 | 522 kB 5.1 MB/s eta 0:00:01\r\u001b[K     |███████████████▎                | 532 kB 5.1 MB/s eta 0:00:01\r\u001b[K     |███████████████▋                | 542 kB 5.1 MB/s eta 0:00:01\r\u001b[K     |███████████████▉                | 552 kB 5.1 MB/s eta 0:00:01\r\u001b[K     |████████████████▏               | 563 kB 5.1 MB/s eta 0:00:01\r\u001b[K     |████████████████▌               | 573 kB 5.1 MB/s eta 0:00:01\r\u001b[K     |████████████████▊               | 583 kB 5.1 MB/s eta 0:00:01\r\u001b[K     |█████████████████               | 593 kB 5.1 MB/s eta 0:00:01\r\u001b[K     |█████████████████▍              | 604 kB 5.1 MB/s eta 0:00:01\r\u001b[K     |█████████████████▋              | 614 kB 5.1 MB/s eta 0:00:01\r\u001b[K     |██████████████████              | 624 kB 5.1 MB/s eta 0:00:01\r\u001b[K     |██████████████████▏             | 634 kB 5.1 MB/s eta 0:00:01\r\u001b[K     |██████████████████▌             | 645 kB 5.1 MB/s eta 0:00:01\r\u001b[K     |██████████████████▉             | 655 kB 5.1 MB/s eta 0:00:01\r\u001b[K     |███████████████████             | 665 kB 5.1 MB/s eta 0:00:01\r\u001b[K     |███████████████████▍            | 675 kB 5.1 MB/s eta 0:00:01\r\u001b[K     |███████████████████▊            | 686 kB 5.1 MB/s eta 0:00:01\r\u001b[K     |████████████████████            | 696 kB 5.1 MB/s eta 0:00:01\r\u001b[K     |████████████████████▎           | 706 kB 5.1 MB/s eta 0:00:01\r\u001b[K     |████████████████████▋           | 716 kB 5.1 MB/s eta 0:00:01\r\u001b[K     |████████████████████▉           | 727 kB 5.1 MB/s eta 0:00:01\r\u001b[K     |█████████████████████▏          | 737 kB 5.1 MB/s eta 0:00:01\r\u001b[K     |█████████████████████▌          | 747 kB 5.1 MB/s eta 0:00:01\r\u001b[K     |█████████████████████▊          | 757 kB 5.1 MB/s eta 0:00:01\r\u001b[K     |██████████████████████          | 768 kB 5.1 MB/s eta 0:00:01\r\u001b[K     |██████████████████████▎         | 778 kB 5.1 MB/s eta 0:00:01\r\u001b[K     |██████████████████████▋         | 788 kB 5.1 MB/s eta 0:00:01\r\u001b[K     |███████████████████████         | 798 kB 5.1 MB/s eta 0:00:01\r\u001b[K     |███████████████████████▏        | 808 kB 5.1 MB/s eta 0:00:01\r\u001b[K     |███████████████████████▌        | 819 kB 5.1 MB/s eta 0:00:01\r\u001b[K     |███████████████████████▉        | 829 kB 5.1 MB/s eta 0:00:01\r\u001b[K     |████████████████████████        | 839 kB 5.1 MB/s eta 0:00:01\r\u001b[K     |████████████████████████▍       | 849 kB 5.1 MB/s eta 0:00:01\r\u001b[K     |████████████████████████▊       | 860 kB 5.1 MB/s eta 0:00:01\r\u001b[K     |█████████████████████████       | 870 kB 5.1 MB/s eta 0:00:01\r\u001b[K     |█████████████████████████▎      | 880 kB 5.1 MB/s eta 0:00:01\r\u001b[K     |█████████████████████████▋      | 890 kB 5.1 MB/s eta 0:00:01\r\u001b[K     |█████████████████████████▉      | 901 kB 5.1 MB/s eta 0:00:01\r\u001b[K     |██████████████████████████▏     | 911 kB 5.1 MB/s eta 0:00:01\r\u001b[K     |██████████████████████████▌     | 921 kB 5.1 MB/s eta 0:00:01\r\u001b[K     |██████████████████████████▊     | 931 kB 5.1 MB/s eta 0:00:01\r\u001b[K     |███████████████████████████     | 942 kB 5.1 MB/s eta 0:00:01\r\u001b[K     |███████████████████████████▎    | 952 kB 5.1 MB/s eta 0:00:01\r\u001b[K     |███████████████████████████▋    | 962 kB 5.1 MB/s eta 0:00:01\r\u001b[K     |████████████████████████████    | 972 kB 5.1 MB/s eta 0:00:01\r\u001b[K     |████████████████████████████▏   | 983 kB 5.1 MB/s eta 0:00:01\r\u001b[K     |████████████████████████████▌   | 993 kB 5.1 MB/s eta 0:00:01\r\u001b[K     |████████████████████████████▉   | 1.0 MB 5.1 MB/s eta 0:00:01\r\u001b[K     |█████████████████████████████   | 1.0 MB 5.1 MB/s eta 0:00:01\r\u001b[K     |█████████████████████████████▍  | 1.0 MB 5.1 MB/s eta 0:00:01\r\u001b[K     |█████████████████████████████▊  | 1.0 MB 5.1 MB/s eta 0:00:01\r\u001b[K     |██████████████████████████████  | 1.0 MB 5.1 MB/s eta 0:00:01\r\u001b[K     |██████████████████████████████▎ | 1.1 MB 5.1 MB/s eta 0:00:01\r\u001b[K     |██████████████████████████████▋ | 1.1 MB 5.1 MB/s eta 0:00:01\r\u001b[K     |██████████████████████████████▉ | 1.1 MB 5.1 MB/s eta 0:00:01\r\u001b[K     |███████████████████████████████▏| 1.1 MB 5.1 MB/s eta 0:00:01\r\u001b[K     |███████████████████████████████▍| 1.1 MB 5.1 MB/s eta 0:00:01\r\u001b[K     |███████████████████████████████▊| 1.1 MB 5.1 MB/s eta 0:00:01\r\u001b[K     |████████████████████████████████| 1.1 MB 5.1 MB/s \n",
            "\u001b[?25h"
          ]
        }
      ]
    },
    {
      "cell_type": "code",
      "source": [
        "#将BN改为GN试一试（其实效果并不好）\n",
        "import tensorflow_addons as tfa\n",
        "model = Sequential()\n",
        "input_shape = X_train.shape[1:]\n",
        "model.add(layers.Conv2D(28,kernel_size=3,activation='relu',input_shape=input_shape))\n",
        "model.add(tfa.layers.GroupNormalization(groups=4, axis=3))\n",
        "model.add(layers.Conv2D(28,kernel_size=3,activation='relu'))\n",
        "model.add(tfa.layers.GroupNormalization(groups=4, axis=3))\n",
        "model.add(layers.Conv2D(28,kernel_size=5,strides=2,padding='same',activation='relu'))\n",
        "model.add(tfa.layers.GroupNormalization(groups=4, axis=3))\n",
        "model.add(layers.Dropout(0.4))\n",
        "\n",
        "model.add(layers.Conv2D(56,kernel_size=3,activation='relu'))\n",
        "model.add(tfa.layers.GroupNormalization(groups=4, axis=3))\n",
        "model.add(layers.Conv2D(56,kernel_size=3,activation='relu'))\n",
        "model.add(tfa.layers.GroupNormalization(groups=4, axis=3))\n",
        "model.add(layers.Conv2D(56,kernel_size=5,strides=2,padding='same',activation='relu'))\n",
        "model.add(tfa.layers.GroupNormalization(groups=4, axis=3))\n",
        "model.add(layers.Dropout(0.4))\n",
        "\n",
        "model.add(layers.Flatten())\n",
        "model.add(layers.Dense(256, activation='relu'))\n",
        "model.add(tfa.layers.GroupNormalization(groups=4, axis=3))\n",
        "model.add(layers.Dropout(0.4))\n",
        "model.add(layers.Dense(10, activation='softmax'))\n",
        "\n",
        "model.compile(loss=\"categorical_crossentropy\", metrics=[\"accuracy\"])"
      ],
      "metadata": {
        "id": "RQxMhekDM7ep",
        "colab": {
          "base_uri": "https://localhost:8080/",
          "height": 374
        },
        "outputId": "3477204f-fda0-490d-e379-06849ace422a"
      },
      "execution_count": 16,
      "outputs": [
        {
          "output_type": "error",
          "ename": "ModuleNotFoundError",
          "evalue": "ignored",
          "traceback": [
            "\u001b[0;31m---------------------------------------------------------------------------\u001b[0m",
            "\u001b[0;31mModuleNotFoundError\u001b[0m                       Traceback (most recent call last)",
            "\u001b[0;32m<ipython-input-16-3104f511f6a6>\u001b[0m in \u001b[0;36m<module>\u001b[0;34m()\u001b[0m\n\u001b[0;32m----> 1\u001b[0;31m \u001b[0;32mimport\u001b[0m \u001b[0mtensorflow_addons\u001b[0m \u001b[0;32mas\u001b[0m \u001b[0mtfa\u001b[0m\u001b[0;34m\u001b[0m\u001b[0;34m\u001b[0m\u001b[0m\n\u001b[0m\u001b[1;32m      2\u001b[0m \u001b[0mmodel\u001b[0m \u001b[0;34m=\u001b[0m \u001b[0mSequential\u001b[0m\u001b[0;34m(\u001b[0m\u001b[0;34m)\u001b[0m\u001b[0;34m\u001b[0m\u001b[0;34m\u001b[0m\u001b[0m\n\u001b[1;32m      3\u001b[0m \u001b[0minput_shape\u001b[0m \u001b[0;34m=\u001b[0m \u001b[0mX_train\u001b[0m\u001b[0;34m.\u001b[0m\u001b[0mshape\u001b[0m\u001b[0;34m[\u001b[0m\u001b[0;36m1\u001b[0m\u001b[0;34m:\u001b[0m\u001b[0;34m]\u001b[0m\u001b[0;34m\u001b[0m\u001b[0;34m\u001b[0m\u001b[0m\n\u001b[1;32m      4\u001b[0m \u001b[0mmodel\u001b[0m\u001b[0;34m.\u001b[0m\u001b[0madd\u001b[0m\u001b[0;34m(\u001b[0m\u001b[0mlayers\u001b[0m\u001b[0;34m.\u001b[0m\u001b[0mConv2D\u001b[0m\u001b[0;34m(\u001b[0m\u001b[0;36m28\u001b[0m\u001b[0;34m,\u001b[0m\u001b[0mkernel_size\u001b[0m\u001b[0;34m=\u001b[0m\u001b[0;36m3\u001b[0m\u001b[0;34m,\u001b[0m\u001b[0mactivation\u001b[0m\u001b[0;34m=\u001b[0m\u001b[0;34m'relu'\u001b[0m\u001b[0;34m,\u001b[0m\u001b[0minput_shape\u001b[0m\u001b[0;34m=\u001b[0m\u001b[0minput_shape\u001b[0m\u001b[0;34m)\u001b[0m\u001b[0;34m)\u001b[0m\u001b[0;34m\u001b[0m\u001b[0;34m\u001b[0m\u001b[0m\n\u001b[1;32m      5\u001b[0m \u001b[0mmodel\u001b[0m\u001b[0;34m.\u001b[0m\u001b[0madd\u001b[0m\u001b[0;34m(\u001b[0m\u001b[0mtfa\u001b[0m\u001b[0;34m.\u001b[0m\u001b[0mlayers\u001b[0m\u001b[0;34m.\u001b[0m\u001b[0mGroupNormalization\u001b[0m\u001b[0;34m(\u001b[0m\u001b[0mgroups\u001b[0m\u001b[0;34m=\u001b[0m\u001b[0;36m4\u001b[0m\u001b[0;34m,\u001b[0m \u001b[0maxis\u001b[0m\u001b[0;34m=\u001b[0m\u001b[0;36m3\u001b[0m\u001b[0;34m)\u001b[0m\u001b[0;34m)\u001b[0m\u001b[0;34m\u001b[0m\u001b[0;34m\u001b[0m\u001b[0m\n",
            "\u001b[0;31mModuleNotFoundError\u001b[0m: No module named 'tensorflow_addons'",
            "",
            "\u001b[0;31m---------------------------------------------------------------------------\u001b[0;32m\nNOTE: If your import is failing due to a missing package, you can\nmanually install dependencies using either !pip or !apt.\n\nTo view examples of installing some common dependencies, click the\n\"Open Examples\" button below.\n\u001b[0;31m---------------------------------------------------------------------------\u001b[0m\n"
          ],
          "errorDetails": {
            "actions": [
              {
                "action": "open_url",
                "actionText": "Open Examples",
                "url": "/notebooks/snippets/importing_libraries.ipynb"
              }
            ]
          }
        }
      ]
    },
    {
      "cell_type": "code",
      "source": [
        "#带数据增强测试\n",
        "import matplotlib.pyplot as plt\n",
        "from keras.callbacks import LearningRateScheduler\n",
        "annealer = LearningRateScheduler(lambda x: 1*1e-3 * 0.95 ** (x), verbose=0)\n",
        "from keras.preprocessing.image import ImageDataGenerator\n",
        "datagen = ImageDataGenerator(\n",
        "        rotation_range=15,  #旋转\n",
        "        zoom_range = 0.1, #缩放\n",
        "        shear_range=0.1, #剪切\n",
        "      \n",
        "        width_shift_range=0.0, \n",
        "        height_shift_range=0.00)#鉴于mnist图像都较为正中间，不设平移\n",
        "history = model.fit(datagen.flow(X_train,Y_train, batch_size=batch_size), epochs = 100, steps_per_epoch = X_train.shape[0]//batch_size,\n",
        "                              validation_data = (X_test,Y_test), callbacks=[annealer], verbose=1)\n",
        "plt.plot(history.history['val_accuracy'])\n",
        "plt.xlabel('epoches')\n",
        "plt.ylabel('Accuracy')"
      ],
      "metadata": {
        "colab": {
          "base_uri": "https://localhost:8080/",
          "height": 1000
        },
        "id": "7_sBInT_gsHO",
        "outputId": "387382f0-7d20-4fae-b863-c770e7e9f50f"
      },
      "execution_count": 19,
      "outputs": [
        {
          "output_type": "stream",
          "name": "stdout",
          "text": [
            "Epoch 1/100\n",
            "468/468 [==============================] - 276s 457ms/step - loss: 0.2183 - accuracy: 0.9330 - val_loss: 0.1898 - val_accuracy: 0.9393 - lr: 0.0010\n",
            "Epoch 2/100\n",
            "468/468 [==============================] - 214s 457ms/step - loss: 0.0750 - accuracy: 0.9761 - val_loss: 0.0244 - val_accuracy: 0.9923 - lr: 9.5000e-04\n",
            "Epoch 3/100\n",
            "468/468 [==============================] - 215s 459ms/step - loss: 0.0580 - accuracy: 0.9829 - val_loss: 0.0261 - val_accuracy: 0.9923 - lr: 9.0250e-04\n",
            "Epoch 4/100\n",
            "468/468 [==============================] - 215s 459ms/step - loss: 0.0457 - accuracy: 0.9855 - val_loss: 0.0196 - val_accuracy: 0.9938 - lr: 8.5737e-04\n",
            "Epoch 5/100\n",
            "468/468 [==============================] - 214s 458ms/step - loss: 0.0400 - accuracy: 0.9877 - val_loss: 0.0173 - val_accuracy: 0.9945 - lr: 8.1451e-04\n",
            "Epoch 6/100\n",
            "468/468 [==============================] - 215s 458ms/step - loss: 0.0380 - accuracy: 0.9886 - val_loss: 0.0209 - val_accuracy: 0.9936 - lr: 7.7378e-04\n",
            "Epoch 7/100\n",
            "468/468 [==============================] - 215s 459ms/step - loss: 0.0340 - accuracy: 0.9898 - val_loss: 0.0198 - val_accuracy: 0.9937 - lr: 7.3509e-04\n",
            "Epoch 8/100\n",
            "468/468 [==============================] - 215s 460ms/step - loss: 0.0318 - accuracy: 0.9903 - val_loss: 0.0153 - val_accuracy: 0.9954 - lr: 6.9834e-04\n",
            "Epoch 9/100\n",
            "468/468 [==============================] - 214s 458ms/step - loss: 0.0280 - accuracy: 0.9913 - val_loss: 0.0164 - val_accuracy: 0.9948 - lr: 6.6342e-04\n",
            "Epoch 10/100\n",
            "468/468 [==============================] - 215s 459ms/step - loss: 0.0289 - accuracy: 0.9915 - val_loss: 0.0151 - val_accuracy: 0.9954 - lr: 6.3025e-04\n",
            "Epoch 11/100\n",
            "468/468 [==============================] - 215s 458ms/step - loss: 0.0256 - accuracy: 0.9926 - val_loss: 0.0168 - val_accuracy: 0.9955 - lr: 5.9874e-04\n",
            "Epoch 12/100\n",
            "468/468 [==============================] - 215s 460ms/step - loss: 0.0235 - accuracy: 0.9930 - val_loss: 0.0176 - val_accuracy: 0.9952 - lr: 5.6880e-04\n",
            "Epoch 13/100\n",
            "468/468 [==============================] - 215s 460ms/step - loss: 0.0234 - accuracy: 0.9927 - val_loss: 0.0148 - val_accuracy: 0.9957 - lr: 5.4036e-04\n",
            "Epoch 14/100\n",
            "468/468 [==============================] - 215s 458ms/step - loss: 0.0217 - accuracy: 0.9931 - val_loss: 0.0131 - val_accuracy: 0.9961 - lr: 5.1334e-04\n",
            "Epoch 15/100\n",
            "468/468 [==============================] - 215s 460ms/step - loss: 0.0207 - accuracy: 0.9936 - val_loss: 0.0143 - val_accuracy: 0.9958 - lr: 4.8767e-04\n",
            "Epoch 16/100\n",
            "468/468 [==============================] - 215s 460ms/step - loss: 0.0199 - accuracy: 0.9941 - val_loss: 0.0154 - val_accuracy: 0.9955 - lr: 4.6329e-04\n",
            "Epoch 17/100\n",
            "468/468 [==============================] - 214s 457ms/step - loss: 0.0184 - accuracy: 0.9944 - val_loss: 0.0126 - val_accuracy: 0.9966 - lr: 4.4013e-04\n",
            "Epoch 18/100\n",
            "468/468 [==============================] - 215s 459ms/step - loss: 0.0190 - accuracy: 0.9942 - val_loss: 0.0132 - val_accuracy: 0.9963 - lr: 4.1812e-04\n",
            "Epoch 19/100\n",
            "468/468 [==============================] - 214s 457ms/step - loss: 0.0176 - accuracy: 0.9949 - val_loss: 0.0140 - val_accuracy: 0.9960 - lr: 3.9721e-04\n",
            "Epoch 20/100\n",
            "468/468 [==============================] - 214s 458ms/step - loss: 0.0172 - accuracy: 0.9947 - val_loss: 0.0130 - val_accuracy: 0.9966 - lr: 3.7735e-04\n",
            "Epoch 21/100\n",
            "468/468 [==============================] - 214s 458ms/step - loss: 0.0173 - accuracy: 0.9945 - val_loss: 0.0118 - val_accuracy: 0.9967 - lr: 3.5849e-04\n",
            "Epoch 22/100\n",
            "468/468 [==============================] - 214s 458ms/step - loss: 0.0153 - accuracy: 0.9954 - val_loss: 0.0125 - val_accuracy: 0.9962 - lr: 3.4056e-04\n",
            "Epoch 23/100\n",
            "468/468 [==============================] - 215s 459ms/step - loss: 0.0146 - accuracy: 0.9954 - val_loss: 0.0135 - val_accuracy: 0.9960 - lr: 3.2353e-04\n",
            "Epoch 24/100\n",
            "468/468 [==============================] - 214s 457ms/step - loss: 0.0150 - accuracy: 0.9955 - val_loss: 0.0145 - val_accuracy: 0.9959 - lr: 3.0736e-04\n",
            "Epoch 25/100\n",
            "468/468 [==============================] - 214s 457ms/step - loss: 0.0145 - accuracy: 0.9956 - val_loss: 0.0146 - val_accuracy: 0.9965 - lr: 2.9199e-04\n",
            "Epoch 26/100\n",
            "468/468 [==============================] - 214s 457ms/step - loss: 0.0131 - accuracy: 0.9959 - val_loss: 0.0139 - val_accuracy: 0.9962 - lr: 2.7739e-04\n",
            "Epoch 27/100\n",
            "468/468 [==============================] - 214s 458ms/step - loss: 0.0140 - accuracy: 0.9959 - val_loss: 0.0140 - val_accuracy: 0.9958 - lr: 2.6352e-04\n",
            "Epoch 28/100\n",
            "468/468 [==============================] - 215s 460ms/step - loss: 0.0142 - accuracy: 0.9960 - val_loss: 0.0126 - val_accuracy: 0.9966 - lr: 2.5034e-04\n",
            "Epoch 29/100\n",
            "468/468 [==============================] - 215s 460ms/step - loss: 0.0122 - accuracy: 0.9961 - val_loss: 0.0139 - val_accuracy: 0.9964 - lr: 2.3783e-04\n",
            "Epoch 30/100\n",
            "468/468 [==============================] - 214s 457ms/step - loss: 0.0123 - accuracy: 0.9962 - val_loss: 0.0133 - val_accuracy: 0.9963 - lr: 2.2594e-04\n",
            "Epoch 31/100\n",
            "468/468 [==============================] - 214s 457ms/step - loss: 0.0117 - accuracy: 0.9964 - val_loss: 0.0126 - val_accuracy: 0.9971 - lr: 2.1464e-04\n",
            "Epoch 32/100\n",
            "468/468 [==============================] - 214s 457ms/step - loss: 0.0123 - accuracy: 0.9965 - val_loss: 0.0126 - val_accuracy: 0.9967 - lr: 2.0391e-04\n",
            "Epoch 33/100\n",
            "468/468 [==============================] - 214s 457ms/step - loss: 0.0112 - accuracy: 0.9967 - val_loss: 0.0126 - val_accuracy: 0.9963 - lr: 1.9371e-04\n",
            "Epoch 34/100\n",
            "468/468 [==============================] - 214s 458ms/step - loss: 0.0107 - accuracy: 0.9966 - val_loss: 0.0125 - val_accuracy: 0.9962 - lr: 1.8403e-04\n",
            "Epoch 35/100\n",
            "468/468 [==============================] - 215s 458ms/step - loss: 0.0113 - accuracy: 0.9964 - val_loss: 0.0118 - val_accuracy: 0.9971 - lr: 1.7482e-04\n",
            "Epoch 36/100\n",
            "468/468 [==============================] - 215s 459ms/step - loss: 0.0111 - accuracy: 0.9966 - val_loss: 0.0136 - val_accuracy: 0.9965 - lr: 1.6608e-04\n",
            "Epoch 37/100\n",
            "468/468 [==============================] - 215s 459ms/step - loss: 0.0101 - accuracy: 0.9969 - val_loss: 0.0116 - val_accuracy: 0.9970 - lr: 1.5778e-04\n",
            "Epoch 38/100\n",
            "468/468 [==============================] - 214s 458ms/step - loss: 0.0097 - accuracy: 0.9969 - val_loss: 0.0111 - val_accuracy: 0.9974 - lr: 1.4989e-04\n",
            "Epoch 39/100\n",
            "468/468 [==============================] - 215s 458ms/step - loss: 0.0092 - accuracy: 0.9971 - val_loss: 0.0122 - val_accuracy: 0.9970 - lr: 1.4240e-04\n",
            "Epoch 40/100\n",
            "468/468 [==============================] - 215s 459ms/step - loss: 0.0110 - accuracy: 0.9966 - val_loss: 0.0122 - val_accuracy: 0.9974 - lr: 1.3528e-04\n",
            "Epoch 41/100\n",
            "468/468 [==============================] - 215s 459ms/step - loss: 0.0107 - accuracy: 0.9969 - val_loss: 0.0121 - val_accuracy: 0.9972 - lr: 1.2851e-04\n",
            "Epoch 42/100\n",
            "468/468 [==============================] - 214s 458ms/step - loss: 0.0095 - accuracy: 0.9972 - val_loss: 0.0130 - val_accuracy: 0.9968 - lr: 1.2209e-04\n",
            "Epoch 43/100\n",
            "468/468 [==============================] - 215s 459ms/step - loss: 0.0091 - accuracy: 0.9971 - val_loss: 0.0124 - val_accuracy: 0.9970 - lr: 1.1598e-04\n",
            "Epoch 44/100\n",
            "468/468 [==============================] - 214s 458ms/step - loss: 0.0089 - accuracy: 0.9971 - val_loss: 0.0132 - val_accuracy: 0.9965 - lr: 1.1018e-04\n",
            "Epoch 45/100\n",
            "468/468 [==============================] - 214s 458ms/step - loss: 0.0098 - accuracy: 0.9967 - val_loss: 0.0117 - val_accuracy: 0.9975 - lr: 1.0467e-04\n",
            "Epoch 46/100\n",
            "468/468 [==============================] - 214s 457ms/step - loss: 0.0091 - accuracy: 0.9971 - val_loss: 0.0121 - val_accuracy: 0.9976 - lr: 9.9440e-05\n",
            "Epoch 47/100\n",
            "468/468 [==============================] - 215s 459ms/step - loss: 0.0092 - accuracy: 0.9972 - val_loss: 0.0124 - val_accuracy: 0.9973 - lr: 9.4468e-05\n",
            "Epoch 48/100\n",
            "468/468 [==============================] - 214s 458ms/step - loss: 0.0088 - accuracy: 0.9972 - val_loss: 0.0120 - val_accuracy: 0.9975 - lr: 8.9745e-05\n",
            "Epoch 49/100\n",
            "468/468 [==============================] - 215s 458ms/step - loss: 0.0092 - accuracy: 0.9974 - val_loss: 0.0123 - val_accuracy: 0.9973 - lr: 8.5258e-05\n",
            "Epoch 50/100\n",
            "468/468 [==============================] - 214s 458ms/step - loss: 0.0087 - accuracy: 0.9975 - val_loss: 0.0121 - val_accuracy: 0.9974 - lr: 8.0995e-05\n",
            "Epoch 51/100\n",
            "468/468 [==============================] - 214s 458ms/step - loss: 0.0084 - accuracy: 0.9970 - val_loss: 0.0117 - val_accuracy: 0.9974 - lr: 7.6945e-05\n",
            "Epoch 52/100\n",
            "468/468 [==============================] - 215s 459ms/step - loss: 0.0082 - accuracy: 0.9974 - val_loss: 0.0113 - val_accuracy: 0.9976 - lr: 7.3098e-05\n",
            "Epoch 53/100\n",
            "468/468 [==============================] - 215s 460ms/step - loss: 0.0080 - accuracy: 0.9974 - val_loss: 0.0128 - val_accuracy: 0.9969 - lr: 6.9443e-05\n",
            "Epoch 54/100\n",
            "468/468 [==============================] - 214s 457ms/step - loss: 0.0078 - accuracy: 0.9975 - val_loss: 0.0132 - val_accuracy: 0.9972 - lr: 6.5971e-05\n",
            "Epoch 55/100\n",
            "468/468 [==============================] - 214s 458ms/step - loss: 0.0084 - accuracy: 0.9973 - val_loss: 0.0119 - val_accuracy: 0.9975 - lr: 6.2672e-05\n",
            "Epoch 56/100\n",
            "468/468 [==============================] - 215s 459ms/step - loss: 0.0085 - accuracy: 0.9976 - val_loss: 0.0118 - val_accuracy: 0.9973 - lr: 5.9539e-05\n",
            "Epoch 57/100\n",
            "468/468 [==============================] - 214s 457ms/step - loss: 0.0081 - accuracy: 0.9973 - val_loss: 0.0122 - val_accuracy: 0.9972 - lr: 5.6562e-05\n",
            "Epoch 58/100\n",
            "468/468 [==============================] - 214s 456ms/step - loss: 0.0082 - accuracy: 0.9976 - val_loss: 0.0123 - val_accuracy: 0.9970 - lr: 5.3734e-05\n",
            "Epoch 59/100\n",
            "468/468 [==============================] - 213s 455ms/step - loss: 0.0075 - accuracy: 0.9976 - val_loss: 0.0120 - val_accuracy: 0.9973 - lr: 5.1047e-05\n",
            "Epoch 60/100\n",
            "468/468 [==============================] - 214s 457ms/step - loss: 0.0073 - accuracy: 0.9977 - val_loss: 0.0123 - val_accuracy: 0.9971 - lr: 4.8495e-05\n",
            "Epoch 61/100\n",
            "468/468 [==============================] - 214s 457ms/step - loss: 0.0083 - accuracy: 0.9974 - val_loss: 0.0124 - val_accuracy: 0.9973 - lr: 4.6070e-05\n",
            "Epoch 62/100\n",
            "468/468 [==============================] - 213s 456ms/step - loss: 0.0078 - accuracy: 0.9975 - val_loss: 0.0122 - val_accuracy: 0.9972 - lr: 4.3766e-05\n",
            "Epoch 63/100\n",
            "468/468 [==============================] - 213s 456ms/step - loss: 0.0081 - accuracy: 0.9975 - val_loss: 0.0122 - val_accuracy: 0.9969 - lr: 4.1578e-05\n",
            "Epoch 64/100\n",
            "468/468 [==============================] - 213s 456ms/step - loss: 0.0073 - accuracy: 0.9979 - val_loss: 0.0115 - val_accuracy: 0.9974 - lr: 3.9499e-05\n",
            "Epoch 65/100\n",
            "468/468 [==============================] - 213s 454ms/step - loss: 0.0074 - accuracy: 0.9977 - val_loss: 0.0114 - val_accuracy: 0.9973 - lr: 3.7524e-05\n",
            "Epoch 66/100\n",
            "468/468 [==============================] - 213s 455ms/step - loss: 0.0075 - accuracy: 0.9975 - val_loss: 0.0117 - val_accuracy: 0.9969 - lr: 3.5648e-05\n",
            "Epoch 67/100\n",
            "468/468 [==============================] - 213s 454ms/step - loss: 0.0074 - accuracy: 0.9978 - val_loss: 0.0118 - val_accuracy: 0.9972 - lr: 3.3866e-05\n",
            "Epoch 68/100\n",
            "468/468 [==============================] - 213s 456ms/step - loss: 0.0077 - accuracy: 0.9975 - val_loss: 0.0118 - val_accuracy: 0.9975 - lr: 3.2172e-05\n",
            "Epoch 69/100\n",
            "468/468 [==============================] - 213s 456ms/step - loss: 0.0079 - accuracy: 0.9974 - val_loss: 0.0121 - val_accuracy: 0.9970 - lr: 3.0564e-05\n",
            "Epoch 70/100\n",
            "468/468 [==============================] - 213s 456ms/step - loss: 0.0076 - accuracy: 0.9978 - val_loss: 0.0118 - val_accuracy: 0.9971 - lr: 2.9035e-05\n",
            "Epoch 71/100\n",
            "468/468 [==============================] - 213s 456ms/step - loss: 0.0065 - accuracy: 0.9979 - val_loss: 0.0119 - val_accuracy: 0.9973 - lr: 2.7584e-05\n",
            "Epoch 72/100\n",
            "468/468 [==============================] - 213s 456ms/step - loss: 0.0073 - accuracy: 0.9977 - val_loss: 0.0122 - val_accuracy: 0.9971 - lr: 2.6205e-05\n",
            "Epoch 73/100\n",
            "468/468 [==============================] - 213s 455ms/step - loss: 0.0062 - accuracy: 0.9980 - val_loss: 0.0119 - val_accuracy: 0.9973 - lr: 2.4894e-05\n",
            "Epoch 74/100\n",
            "468/468 [==============================] - 212s 454ms/step - loss: 0.0077 - accuracy: 0.9978 - val_loss: 0.0120 - val_accuracy: 0.9973 - lr: 2.3650e-05\n",
            "Epoch 75/100\n",
            "468/468 [==============================] - 213s 455ms/step - loss: 0.0069 - accuracy: 0.9978 - val_loss: 0.0119 - val_accuracy: 0.9974 - lr: 2.2467e-05\n",
            "Epoch 76/100\n",
            "468/468 [==============================] - 212s 454ms/step - loss: 0.0078 - accuracy: 0.9975 - val_loss: 0.0118 - val_accuracy: 0.9974 - lr: 2.1344e-05\n",
            "Epoch 77/100\n",
            "468/468 [==============================] - 213s 455ms/step - loss: 0.0068 - accuracy: 0.9979 - val_loss: 0.0119 - val_accuracy: 0.9976 - lr: 2.0277e-05\n",
            "Epoch 78/100\n",
            "468/468 [==============================] - 213s 454ms/step - loss: 0.0071 - accuracy: 0.9976 - val_loss: 0.0120 - val_accuracy: 0.9974 - lr: 1.9263e-05\n",
            "Epoch 79/100\n",
            "468/468 [==============================] - 213s 455ms/step - loss: 0.0074 - accuracy: 0.9977 - val_loss: 0.0117 - val_accuracy: 0.9977 - lr: 1.8300e-05\n",
            "Epoch 80/100\n",
            "468/468 [==============================] - 213s 455ms/step - loss: 0.0074 - accuracy: 0.9978 - val_loss: 0.0117 - val_accuracy: 0.9976 - lr: 1.7385e-05\n",
            "Epoch 81/100\n",
            "468/468 [==============================] - 213s 455ms/step - loss: 0.0074 - accuracy: 0.9976 - val_loss: 0.0118 - val_accuracy: 0.9975 - lr: 1.6515e-05\n",
            "Epoch 82/100\n",
            "468/468 [==============================] - 213s 456ms/step - loss: 0.0067 - accuracy: 0.9980 - val_loss: 0.0118 - val_accuracy: 0.9973 - lr: 1.5690e-05\n",
            "Epoch 83/100\n",
            "468/468 [==============================] - 213s 454ms/step - loss: 0.0073 - accuracy: 0.9977 - val_loss: 0.0118 - val_accuracy: 0.9974 - lr: 1.4905e-05\n",
            "Epoch 84/100\n",
            "468/468 [==============================] - 213s 456ms/step - loss: 0.0070 - accuracy: 0.9979 - val_loss: 0.0119 - val_accuracy: 0.9974 - lr: 1.4160e-05\n",
            "Epoch 85/100\n",
            "468/468 [==============================] - 213s 455ms/step - loss: 0.0074 - accuracy: 0.9977 - val_loss: 0.0119 - val_accuracy: 0.9975 - lr: 1.3452e-05\n",
            "Epoch 86/100\n",
            "468/468 [==============================] - 213s 455ms/step - loss: 0.0063 - accuracy: 0.9979 - val_loss: 0.0119 - val_accuracy: 0.9974 - lr: 1.2779e-05\n",
            "Epoch 87/100\n",
            "468/468 [==============================] - 213s 456ms/step - loss: 0.0074 - accuracy: 0.9978 - val_loss: 0.0118 - val_accuracy: 0.9976 - lr: 1.2140e-05\n",
            "Epoch 88/100\n",
            "468/468 [==============================] - 213s 454ms/step - loss: 0.0064 - accuracy: 0.9980 - val_loss: 0.0120 - val_accuracy: 0.9975 - lr: 1.1533e-05\n",
            "Epoch 89/100\n",
            "468/468 [==============================] - 213s 455ms/step - loss: 0.0066 - accuracy: 0.9978 - val_loss: 0.0121 - val_accuracy: 0.9973 - lr: 1.0957e-05\n",
            "Epoch 90/100\n",
            "468/468 [==============================] - 213s 454ms/step - loss: 0.0064 - accuracy: 0.9980 - val_loss: 0.0118 - val_accuracy: 0.9975 - lr: 1.0409e-05\n",
            "Epoch 91/100\n",
            "468/468 [==============================] - 213s 456ms/step - loss: 0.0073 - accuracy: 0.9977 - val_loss: 0.0119 - val_accuracy: 0.9974 - lr: 9.8884e-06\n",
            "Epoch 92/100\n",
            "468/468 [==============================] - 214s 456ms/step - loss: 0.0063 - accuracy: 0.9977 - val_loss: 0.0118 - val_accuracy: 0.9973 - lr: 9.3939e-06\n",
            "Epoch 93/100\n",
            "468/468 [==============================] - 214s 457ms/step - loss: 0.0074 - accuracy: 0.9978 - val_loss: 0.0119 - val_accuracy: 0.9973 - lr: 8.9242e-06\n",
            "Epoch 94/100\n",
            "468/468 [==============================] - 213s 456ms/step - loss: 0.0065 - accuracy: 0.9979 - val_loss: 0.0117 - val_accuracy: 0.9974 - lr: 8.4780e-06\n",
            "Epoch 95/100\n",
            "468/468 [==============================] - 213s 456ms/step - loss: 0.0061 - accuracy: 0.9980 - val_loss: 0.0117 - val_accuracy: 0.9974 - lr: 8.0541e-06\n",
            "Epoch 96/100\n",
            "468/468 [==============================] - 213s 456ms/step - loss: 0.0070 - accuracy: 0.9977 - val_loss: 0.0116 - val_accuracy: 0.9974 - lr: 7.6514e-06\n",
            "Epoch 97/100\n",
            "468/468 [==============================] - 213s 456ms/step - loss: 0.0067 - accuracy: 0.9981 - val_loss: 0.0117 - val_accuracy: 0.9974 - lr: 7.2689e-06\n",
            "Epoch 98/100\n",
            "468/468 [==============================] - 213s 454ms/step - loss: 0.0072 - accuracy: 0.9976 - val_loss: 0.0115 - val_accuracy: 0.9974 - lr: 6.9054e-06\n",
            "Epoch 99/100\n",
            "468/468 [==============================] - 212s 452ms/step - loss: 0.0067 - accuracy: 0.9980 - val_loss: 0.0115 - val_accuracy: 0.9976 - lr: 6.5601e-06\n",
            "Epoch 100/100\n",
            "468/468 [==============================] - 212s 453ms/step - loss: 0.0064 - accuracy: 0.9980 - val_loss: 0.0116 - val_accuracy: 0.9977 - lr: 6.2321e-06\n"
          ]
        },
        {
          "output_type": "execute_result",
          "data": {
            "text/plain": [
              "Text(0, 0.5, 'Accuracy')"
            ]
          },
          "metadata": {},
          "execution_count": 19
        },
        {
          "output_type": "display_data",
          "data": {
            "image/png": "[encoded data removed]",
            "text/plain": [
              "<Figure size 432x288 with 1 Axes>"
            ]
          },
          "metadata": {
            "needs_background": "light"
          }
        }
      ]
    },
    {
      "cell_type": "code",
      "source": [
        "#可视化错误图片\n",
        "prediction = np.round(model.predict(X_test))\n",
        "predictions = np.argmax(prediction, axis=1)\n",
        "wrong_predictions = (X_test[predictions != y_test]*255.0)[:,:,:,0]\n",
        "wrong_label = predictions[predictions != y_test]\n",
        "right_label = y_test[predictions != y_test]"
      ],
      "metadata": {
        "id": "Zgg-XOISs_Jj"
      },
      "execution_count": 21,
      "outputs": []
    },
    {
      "cell_type": "code",
      "source": [
        "\n",
        "# 定义可视化函数\n",
        "def plot_images_labels_prediction(images, labels, prediction, index, num=10):  \n",
        "      fig = plt.gcf()   # 加载当前图片集\n",
        "      fig.set_size_inches(10, 12)  # 显示成英寸形式\n",
        "      for i in range(0, num):\n",
        "            ax = plt.subplot(6, 4, i+1)  # 画多个子图\n",
        "            ax.imshow(np.reshape(images[index], (28, 28)), cmap='binary')  # 显示第index张图像\n",
        "            title = \"label=\" + str(labels[index])   # 显示的title为预测结果与实际结果\n",
        "            if len(prediction) > 0:\n",
        "                  title += \", predict=\" + str(prediction[index])\n",
        "            ax.set_title(title, fontsize=10)\n",
        "            ax.set_xticks([])  # 不显示坐标轴\n",
        "            ax.set_yticks([])\n",
        "            index += 1\n",
        "      plt.show()\n",
        "# 显示全部错误图像\n",
        "plot_images_labels_prediction(wrong_predictions, right_label, wrong_label, 0, 23)"
      ],
      "metadata": {
        "colab": {
          "base_uri": "https://localhost:8080/",
          "height": 701
        },
        "id": "R-lm6AsvrQYW",
        "outputId": "8b92b188-5214-4823-f689-d659dffe6dcd"
      },
      "execution_count": 22,
      "outputs": [
        {
          "output_type": "display_data",
          "data": {
            "image/png": "[encoded data removed]",
            "text/plain": [
              "<Figure size 720x864 with 23 Axes>"
            ]
          },
          "metadata": {}
        }
      ]
    },
    {
      "cell_type": "code",
      "source": [
        "#储存最优模型\n",
        "from google.colab import drive\n",
        "drive.mount('/content/drive')\n",
        "\n",
        "import os\n",
        "os.chdir('/content/drive/My Drive')\n",
        "!mkdir -p saved_model\n",
        "model.save('saved_model/my_model')\n",
        "model.summary()"
      ],
      "metadata": {
        "colab": {
          "base_uri": "https://localhost:8080/"
        },
        "id": "VVjWrZ4bxqJt",
        "outputId": "f11e9c60-6c48-4527-9da0-2bcdd91841b5"
      },
      "execution_count": 20,
      "outputs": [
        {
          "output_type": "stream",
          "name": "stdout",
          "text": [
            "Drive already mounted at /content/drive; to attempt to forcibly remount, call drive.mount(\"/content/drive\", force_remount=True).\n",
            "INFO:tensorflow:Assets written to: saved_model/my_model/assets\n",
            "Model: \"sequential_2\"\n",
            "_________________________________________________________________\n",
            " Layer (type)                Output Shape              Param #   \n",
            "=================================================================\n",
            " conv2d_12 (Conv2D)          (None, 26, 26, 28)        280       \n",
            "                                                                 \n",
            " batch_normalization_14 (Bat  (None, 26, 26, 28)       112       \n",
            " chNormalization)                                                \n",
            "                                                                 \n",
            " conv2d_13 (Conv2D)          (None, 24, 24, 28)        7084      \n",
            "                                                                 \n",
            " batch_normalization_15 (Bat  (None, 24, 24, 28)       112       \n",
            " chNormalization)                                                \n",
            "                                                                 \n",
            " conv2d_14 (Conv2D)          (None, 12, 12, 28)        19628     \n",
            "                                                                 \n",
            " batch_normalization_16 (Bat  (None, 12, 12, 28)       112       \n",
            " chNormalization)                                                \n",
            "                                                                 \n",
            " dropout_6 (Dropout)         (None, 12, 12, 28)        0         \n",
            "                                                                 \n",
            " conv2d_15 (Conv2D)          (None, 10, 10, 56)        14168     \n",
            "                                                                 \n",
            " batch_normalization_17 (Bat  (None, 10, 10, 56)       224       \n",
            " chNormalization)                                                \n",
            "                                                                 \n",
            " conv2d_16 (Conv2D)          (None, 8, 8, 56)          28280     \n",
            "                                                                 \n",
            " batch_normalization_18 (Bat  (None, 8, 8, 56)         224       \n",
            " chNormalization)                                                \n",
            "                                                                 \n",
            " conv2d_17 (Conv2D)          (None, 4, 4, 56)          78456     \n",
            "                                                                 \n",
            " batch_normalization_19 (Bat  (None, 4, 4, 56)         224       \n",
            " chNormalization)                                                \n",
            "                                                                 \n",
            " dropout_7 (Dropout)         (None, 4, 4, 56)          0         \n",
            "                                                                 \n",
            " flatten_2 (Flatten)         (None, 896)               0         \n",
            "                                                                 \n",
            " dense_4 (Dense)             (None, 256)               229632    \n",
            "                                                                 \n",
            " batch_normalization_20 (Bat  (None, 256)              1024      \n",
            " chNormalization)                                                \n",
            "                                                                 \n",
            " dropout_8 (Dropout)         (None, 256)               0         \n",
            "                                                                 \n",
            " dense_5 (Dense)             (None, 10)                2570      \n",
            "                                                                 \n",
            "=================================================================\n",
            "Total params: 382,130\n",
            "Trainable params: 381,114\n",
            "Non-trainable params: 1,016\n",
            "_________________________________________________________________\n"
          ]
        }
      ]
    }
  ]
}
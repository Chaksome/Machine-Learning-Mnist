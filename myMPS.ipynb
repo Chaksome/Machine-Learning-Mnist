{
  "nbformat": 4,
  "nbformat_minor": 0,
  "metadata": {
    "colab": {
      "name": "myMPS.ipynb",
      "provenance": [],
      "toc_visible": true,
      "authorship_tag": "ABX9TyM5U8apfAwQNUC2XXJnWdjF",
      "include_colab_link": true
    },
    "kernelspec": {
      "name": "python3",
      "display_name": "Python 3"
    },
    "language_info": {
      "name": "python"
    }
  },
  "cells": [
    {
      "cell_type": "markdown",
      "metadata": {
        "id": "view-in-github",
        "colab_type": "text"
      },
      "source": [
        "<a href=\"https://colab.research.google.com/github/Chaksome/Machine-Learning-Mnist/blob/main/myMPS.ipynb\" target=\"_parent\"><img src=\"https://colab.research.google.com/assets/colab-badge.svg\" alt=\"Open In Colab\"/></a>"
      ]
    },
    {
      "cell_type": "code",
      "execution_count": 26,
      "metadata": {
        "colab": {
          "base_uri": "https://localhost:8080/"
        },
        "id": "OF40gDBLsTTM",
        "outputId": "1137fd84-5a57-458b-b398-92642ab642b6"
      },
      "outputs": [
        {
          "output_type": "stream",
          "name": "stdout",
          "text": [
            "CPU times: user 1.59 ms, sys: 0 ns, total: 1.59 ms\n",
            "Wall time: 1.43 ms\n"
          ]
        }
      ],
      "source": [
        "%%time\n",
        "import numpy as np\n",
        "import tensorflow as tf\n",
        "from tensorflow.keras import layers\n",
        "from tensorflow.keras import callbacks\n",
        "from tensorflow.keras.models import Sequential\n",
        "from keras.datasets import mnist\n",
        "from keras.models import Sequential\n",
        "from keras.layers import Dense, Dropout, Activation, Flatten\n",
        "from keras.layers import Convolution2D, MaxPooling2D\n",
        "from keras.utils import np_utils\n",
        "import matplotlib.pyplot as plt"
      ]
    },
    {
      "cell_type": "code",
      "source": [
        "batch_size = 100\n",
        "num_classes = 10\n",
        "epochs = 10"
      ],
      "metadata": {
        "id": "00bW-JeYsrN5"
      },
      "execution_count": 2,
      "outputs": []
    },
    {
      "cell_type": "code",
      "source": [
        "def preprocess_images(x):\n",
        "  n_data, dim0, dim1 = tuple(x.shape)\n",
        "  n_sites = dim0 * dim1\n",
        "  xx = x.reshape((n_data, n_sites)) / 255\n",
        "  x = x / 255.0\n",
        "  for k in range(len(x)):\n",
        "      xx[k] = np.concatenate([np.diagonal(x[k][::-1,:], i)[::(2*(i % 2)-1)] for i in range(1-x[k].shape[0], x[k].shape[0])])      #zigzag：相比于简单的一维化，拉链式的降为更能保留图像原本信息\n",
        "  \n",
        "  xxx = tf.cast(tf.math.greater(xx, 0.5), dtype=tf.int32)\n",
        "  y = tf.keras.utils.to_categorical(xxx, 2)\n",
        "#第一步：将原始数据变为矢量直积形态，此处维度取2，转化方法为x->[x,1-x]  \n",
        "  for k in range(len(xx)):\n",
        "      for i in range(len(xx[0])):\n",
        "#       y[k][i] = [np.cos(x[k][i]*np.pi/2)**2, np.sin(x[k][i]*np.pi/2)**2]\n",
        "        y[k][i] = [xx[k][i], 1-xx[k][i]]     \n",
        "#       if x[k][i] <= 0.5 :\n",
        "#          y[k][i] = [1, 0]\n",
        "#       else:\n",
        "#          y[k][i] = [0, 1]\n",
        "  return y\n",
        "\n",
        "\n",
        "(x_train, y_train), (x_test, y_test) = tf.keras.datasets.mnist.load_data()\n",
        "from scipy.ndimage import interpolation\n",
        "#第二步：对图像进行deskew\n",
        "\n",
        "def moments(image):\n",
        "    c0,c1 = np.mgrid[:image.shape[0],:image.shape[1]] \n",
        "    totalImage = np.sum(image) \n",
        "    m0 = np.sum(c0*image)/totalImage \n",
        "    m1 = np.sum(c1*image)/totalImage \n",
        "    m00 = np.sum((c0-m0)**2*image)/totalImage \n",
        "    m11 = np.sum((c1-m1)**2*image)/totalImage \n",
        "    m01 = np.sum((c0-m0)*(c1-m1)*image)/totalImage \n",
        "    mu_vector = np.array([m0,m1]) \n",
        "    covariance_matrix = np.array([[m00,m01],[m01,m11]]) \n",
        "    return mu_vector, covariance_matrix\n",
        "\n",
        "def deskew(image):\n",
        "    c,v = moments(image)#求图像的矩，根据此来进行图像旋转\n",
        "    alpha = v[0,1]/v[0,0]\n",
        "    affine = np.array([[1,0],[alpha,1]])\n",
        "    ocenter = np.array(image.shape)/2.0\n",
        "    offset = c-np.dot(affine,ocenter)\n",
        "    return interpolation.affine_transform(image,affine,offset=offset)\n",
        "def deskewAll(X):\n",
        "    currents = []\n",
        "    for i in range(len(X)):\n",
        "        currents.append(deskew(X[i].reshape(28,28)))\n",
        "    return np.array(currents)\n",
        "\n",
        "x_train = deskewAll(x_train)\n",
        "x_test = deskewAll(x_test)\n",
        "# convert class vectors to binary class matrices\n",
        "y_train = tf.keras.utils.to_categorical(y_train, num_classes)\n",
        "y_test = tf.keras.utils.to_categorical(y_test, num_classes)\n",
        "# convert images to supported format\n",
        "x_train = preprocess_images(x_train)\n",
        "x_test = preprocess_images(x_test)"
      ],
      "metadata": {
        "id": "2V7hg2VGs7xx",
        "colab": {
          "base_uri": "https://localhost:8080/"
        },
        "outputId": "6cb985c8-1c66-415e-9b8f-af2e153f581d"
      },
      "execution_count": 3,
      "outputs": [
        {
          "output_type": "stream",
          "name": "stdout",
          "text": [
            "Downloading data from https://storage.googleapis.com/tensorflow/tf-keras-datasets/mnist.npz\n",
            "11493376/11490434 [==============================] - 0s 0us/step\n",
            "11501568/11490434 [==============================] - 0s 0us/step\n"
          ]
        }
      ]
    },
    {
      "cell_type": "code",
      "source": [
        "%%time\n",
        "d_bond =4#  MPS辅助空间维数\n",
        "#第三步：搭建MPS张量网络\n",
        "class MPSLayer(layers.Layer):\n",
        "\n",
        "  def __init__(self, n_sites, d_bond, n_output, dtype=tf.float32):\n",
        "    super(MPSLayer, self).__init__()\n",
        "    if n_sites % 2:\n",
        "        raise NotImplementedError(\"Number of sites should be even but is \"\n",
        "                                  \"{}.\".format(n_sites))\n",
        "    #分别对左矢、核、右矢进行初始化\n",
        "    self.n_half = n_sites // 2\n",
        "    self.left = tf.Variable(self._initializer(self.n_half, 2, d_bond),\n",
        "                            dtype=dtype, trainable=True)\n",
        "    self.right = tf.Variable(self._initializer(self.n_half, 2, d_bond),\n",
        "                             dtype=dtype, trainable=True)\n",
        "    self.middle = tf.Variable(self._initializer(n_output, 1, d_bond)[0],\n",
        "                              dtype=dtype, trainable=True)\n",
        "\n",
        "  @staticmethod#初始化权重\n",
        "  def _initializer(n_sites, d_phys, d_bond):\n",
        "    w = np.stack(d_phys * n_sites * [np.eye(d_bond)])\n",
        "    w = w.reshape((d_phys, n_sites, d_bond, d_bond))\n",
        "    return w + np.random.normal(0, 1e-2, size=w.shape)\n",
        "\n",
        "  def call(self, inputs):\n",
        "    left = tf.einsum(\"slij,bls->lbij\", self.left, inputs[:, :self.n_half])#左半部分连接张量与数据\n",
        "    right = tf.einsum(\"slij,bls->lbij\", self.right, inputs[:, self.n_half:])#右半部分连接张量与数据\n",
        "    left = self.reduction(left)#对左半边进行张量缩并\n",
        "    right = self.reduction(right)#对右半边进行张量缩并\n",
        "    f = tf.einsum(\"bij,cjk,bki->bc\", left, self.middle, right)#三者求内积得到函数求误差函数\n",
        "    return f\n",
        "\n",
        "  @staticmethod\n",
        "  def reduction(tensor):#定义缩并函数\n",
        "    size = int(tensor.shape[0])\n",
        "    while size > 1:\n",
        "      half_size = size // 2\n",
        "      nice_size = 2 * half_size\n",
        "      leftover = tensor[nice_size:]\n",
        "      tensor = tf.matmul(tensor[0:nice_size:2], tensor[1:nice_size:2])\n",
        "      tensor = tf.concat([tensor, leftover], axis=0)\n",
        "      size = half_size + int(size % 2 == 1)\n",
        "    return tensor[0]\n",
        "\n",
        "\n",
        "# 定义模型\n",
        "n_sites = x_train.shape[1]\n",
        "model = Sequential()\n",
        "model.add(MPSLayer(n_sites=n_sites, d_bond=d_bond, n_output=num_classes))#mps层\n",
        "model.add(layers.Softmax())\n",
        "\n",
        "\n",
        "# Compile and run\n",
        "model.compile(optimizer='Adam',loss=tf.keras.losses.categorical_crossentropy,\n",
        "              metrics=['accuracy'])\n",
        "from keras.callbacks import LearningRateScheduler\n",
        "annealer = LearningRateScheduler(lambda x: 1e-3 * 0.95 ** x, verbose=0)#学习率\n",
        "history = model.fit(x_train, y_train,\n",
        "          batch_size=128,\n",
        "          epochs=30,\n",
        "          verbose=1,\n",
        "          validation_data=(x_test, y_test),callbacks=[annealer])\n",
        "score = model.evaluate(x_test, y_test, verbose=0)\n",
        "plt.plot(history.history['accuracy'], label='accuracy')\n",
        "plt.plot(history.history['loss'], label='loss')\n",
        "plt.plot(history.history['val_loss'], label = 'val_loss')\n",
        "plt.plot(history.history['val_accuracy'], label = 'val_accuracy')\n",
        "plt.xlabel('Epoch')\n",
        "plt.ylabel('Accuracy')\n",
        "# plt.ylim([0.5, 1])\n",
        "plt.legend(loc='lower right')\n",
        "plt.show()\n",
        "\n",
        "print('Test loss:', score[0])\n",
        "print('Test accuracy:', score[1])"
      ],
      "metadata": {
        "colab": {
          "base_uri": "https://localhost:8080/",
          "height": 1000
        },
        "id": "Hwa9Tpo_tPMM",
        "outputId": "64fff584-dee5-4989-d5fa-fdcba450098e"
      },
      "execution_count": 6,
      "outputs": [
        {
          "output_type": "stream",
          "name": "stdout",
          "text": [
            "Epoch 1/30\n",
            "WARNING:tensorflow:AutoGraph could not transform <bound method MPSLayer.call of <__main__.MPSLayer object at 0x7f80ecfc0e90>> and will run it as-is.\n",
            "Cause: Unable to locate the source code of <bound method MPSLayer.call of <__main__.MPSLayer object at 0x7f80ecfc0e90>>. Note that functions defined in certain environments, like the interactive Python shell, do not expose their source code. If that is the case, you should define them in a .py source file. If you are certain the code is graph-compatible, wrap the call using @tf.autograph.experimental.do_not_convert. Original error: could not get source code\n",
            "To silence this warning, decorate the function with @tf.autograph.experimental.do_not_convert\n",
            "WARNING: AutoGraph could not transform <bound method MPSLayer.call of <__main__.MPSLayer object at 0x7f80ecfc0e90>> and will run it as-is.\n",
            "Cause: Unable to locate the source code of <bound method MPSLayer.call of <__main__.MPSLayer object at 0x7f80ecfc0e90>>. Note that functions defined in certain environments, like the interactive Python shell, do not expose their source code. If that is the case, you should define them in a .py source file. If you are certain the code is graph-compatible, wrap the call using @tf.autograph.experimental.do_not_convert. Original error: could not get source code\n",
            "To silence this warning, decorate the function with @tf.autograph.experimental.do_not_convert\n",
            "469/469 [==============================] - 151s 317ms/step - loss: 0.3264 - accuracy: 0.9009 - val_loss: 0.1489 - val_accuracy: 0.9526 - lr: 0.0010\n",
            "Epoch 2/30\n",
            "469/469 [==============================] - 150s 320ms/step - loss: 0.1466 - accuracy: 0.9590 - val_loss: 0.1285 - val_accuracy: 0.9601 - lr: 9.5000e-04\n",
            "Epoch 3/30\n",
            "469/469 [==============================] - 149s 317ms/step - loss: 0.1220 - accuracy: 0.9652 - val_loss: 0.0897 - val_accuracy: 0.9726 - lr: 9.0250e-04\n",
            "Epoch 4/30\n",
            "469/469 [==============================] - 149s 317ms/step - loss: 0.1043 - accuracy: 0.9707 - val_loss: 0.0967 - val_accuracy: 0.9744 - lr: 8.5737e-04\n",
            "Epoch 5/30\n",
            "469/469 [==============================] - 149s 318ms/step - loss: 0.1045 - accuracy: 0.9705 - val_loss: 0.0966 - val_accuracy: 0.9716 - lr: 8.1451e-04\n",
            "Epoch 6/30\n",
            "469/469 [==============================] - 149s 318ms/step - loss: 0.0893 - accuracy: 0.9744 - val_loss: 0.1270 - val_accuracy: 0.9700 - lr: 7.7378e-04\n",
            "Epoch 7/30\n",
            "469/469 [==============================] - 149s 318ms/step - loss: 0.0907 - accuracy: 0.9740 - val_loss: 0.0935 - val_accuracy: 0.9753 - lr: 7.3509e-04\n",
            "Epoch 8/30\n",
            "469/469 [==============================] - 149s 318ms/step - loss: 0.0816 - accuracy: 0.9773 - val_loss: 0.0920 - val_accuracy: 0.9737 - lr: 6.9834e-04\n",
            "Epoch 9/30\n",
            "469/469 [==============================] - 149s 318ms/step - loss: 0.0778 - accuracy: 0.9776 - val_loss: 0.0946 - val_accuracy: 0.9772 - lr: 6.6342e-04\n",
            "Epoch 10/30\n",
            "469/469 [==============================] - 149s 317ms/step - loss: 0.0691 - accuracy: 0.9797 - val_loss: 0.0947 - val_accuracy: 0.9729 - lr: 6.3025e-04\n",
            "Epoch 11/30\n",
            "469/469 [==============================] - 149s 318ms/step - loss: 0.0689 - accuracy: 0.9799 - val_loss: 0.1286 - val_accuracy: 0.9660 - lr: 5.9874e-04\n",
            "Epoch 12/30\n",
            "469/469 [==============================] - 149s 318ms/step - loss: 0.0705 - accuracy: 0.9804 - val_loss: 0.1166 - val_accuracy: 0.9748 - lr: 5.6880e-04\n",
            "Epoch 13/30\n",
            "469/469 [==============================] - 149s 318ms/step - loss: 0.0611 - accuracy: 0.9816 - val_loss: 0.0691 - val_accuracy: 0.9803 - lr: 5.4036e-04\n",
            "Epoch 14/30\n",
            "469/469 [==============================] - 149s 317ms/step - loss: 0.0586 - accuracy: 0.9832 - val_loss: 0.0967 - val_accuracy: 0.9768 - lr: 5.1334e-04\n",
            "Epoch 15/30\n",
            "469/469 [==============================] - 149s 318ms/step - loss: 0.0577 - accuracy: 0.9829 - val_loss: 0.0752 - val_accuracy: 0.9791 - lr: 4.8767e-04\n",
            "Epoch 16/30\n",
            "469/469 [==============================] - 149s 317ms/step - loss: 0.0548 - accuracy: 0.9841 - val_loss: 0.1230 - val_accuracy: 0.9706 - lr: 4.6329e-04\n",
            "Epoch 17/30\n",
            "469/469 [==============================] - 149s 318ms/step - loss: 0.0508 - accuracy: 0.9849 - val_loss: 0.0934 - val_accuracy: 0.9815 - lr: 4.4013e-04\n",
            "Epoch 18/30\n",
            "469/469 [==============================] - 149s 319ms/step - loss: 0.0450 - accuracy: 0.9864 - val_loss: 0.0788 - val_accuracy: 0.9793 - lr: 4.1812e-04\n",
            "Epoch 19/30\n",
            "469/469 [==============================] - 150s 320ms/step - loss: 0.0475 - accuracy: 0.9858 - val_loss: 0.0842 - val_accuracy: 0.9779 - lr: 3.9721e-04\n",
            "Epoch 20/30\n",
            "469/469 [==============================] - 150s 319ms/step - loss: 0.0391 - accuracy: 0.9880 - val_loss: 0.0932 - val_accuracy: 0.9761 - lr: 3.7735e-04\n",
            "Epoch 21/30\n",
            "469/469 [==============================] - 149s 318ms/step - loss: 0.0357 - accuracy: 0.9887 - val_loss: 0.0849 - val_accuracy: 0.9809 - lr: 3.5849e-04\n",
            "Epoch 22/30\n",
            "469/469 [==============================] - 149s 318ms/step - loss: 0.0341 - accuracy: 0.9888 - val_loss: 0.0771 - val_accuracy: 0.9816 - lr: 3.4056e-04\n",
            "Epoch 23/30\n",
            "469/469 [==============================] - 149s 318ms/step - loss: 0.0358 - accuracy: 0.9888 - val_loss: 0.0916 - val_accuracy: 0.9834 - lr: 3.2353e-04\n",
            "Epoch 24/30\n",
            "469/469 [==============================] - 149s 318ms/step - loss: 0.0330 - accuracy: 0.9898 - val_loss: 0.0844 - val_accuracy: 0.9812 - lr: 3.0736e-04\n",
            "Epoch 25/30\n",
            "469/469 [==============================] - 149s 318ms/step - loss: 0.0320 - accuracy: 0.9901 - val_loss: 0.0820 - val_accuracy: 0.9831 - lr: 2.9199e-04\n",
            "Epoch 26/30\n",
            "469/469 [==============================] - 150s 319ms/step - loss: 0.0270 - accuracy: 0.9912 - val_loss: 0.0892 - val_accuracy: 0.9835 - lr: 2.7739e-04\n",
            "Epoch 27/30\n",
            "469/469 [==============================] - 150s 320ms/step - loss: 0.0363 - accuracy: 0.9894 - val_loss: 0.1162 - val_accuracy: 0.9764 - lr: 2.6352e-04\n",
            "Epoch 28/30\n",
            "469/469 [==============================] - 150s 320ms/step - loss: 0.0263 - accuracy: 0.9918 - val_loss: 0.1031 - val_accuracy: 0.9809 - lr: 2.5034e-04\n",
            "Epoch 29/30\n",
            "469/469 [==============================] - 150s 320ms/step - loss: 0.0213 - accuracy: 0.9932 - val_loss: 0.0979 - val_accuracy: 0.9823 - lr: 2.3783e-04\n",
            "Epoch 30/30\n",
            "469/469 [==============================] - 149s 319ms/step - loss: 0.0226 - accuracy: 0.9923 - val_loss: 0.1083 - val_accuracy: 0.9815 - lr: 2.2594e-04\n"
          ]
        },
        {
          "output_type": "display_data",
          "data": {
            "image/png": "[encoded data removed]",
            "text/plain": [
              "<Figure size 432x288 with 1 Axes>"
            ]
          },
          "metadata": {
            "needs_background": "light"
          }
        },
        {
          "output_type": "stream",
          "name": "stdout",
          "text": [
            "Test loss: 0.10829925537109375\n",
            "Test accuracy: 0.9815000295639038\n",
            "CPU times: user 2h 19min 8s, sys: 2min 56s, total: 2h 22min 4s\n",
            "Wall time: 1h 15min 35s\n"
          ]
        }
      ]
    },
    {
      "cell_type": "code",
      "source": [
        "import matplotlib.pyplot as plt\n",
        "plt.plot(history.history['val_accuracy'])\n",
        "plt.xlabel('epoches')\n",
        "plt.ylabel('Accuracy')"
      ],
      "metadata": {
        "colab": {
          "base_uri": "https://localhost:8080/",
          "height": 300
        },
        "id": "Zuv09Sc2q2tO",
        "outputId": "6a391c6c-f01c-48aa-903f-79c340415231"
      },
      "execution_count": 7,
      "outputs": [
        {
          "output_type": "execute_result",
          "data": {
            "text/plain": [
              "Text(0, 0.5, 'Accuracy')"
            ]
          },
          "metadata": {},
          "execution_count": 7
        },
        {
          "output_type": "display_data",
          "data": {
            "image/png": "[encoded data removed]",
            "text/plain": [
              "<Figure size 432x288 with 1 Axes>"
            ]
          },
          "metadata": {
            "needs_background": "light"
          }
        }
      ]
    },
    {
      "cell_type": "code",
      "source": [
        "%%time\n",
        "d_bond =6#  MPS辅助空间维数\n",
        "class MPSLayer(layers.Layer):\n",
        "\n",
        "  def __init__(self, n_sites, d_bond, n_output, dtype=tf.float32):\n",
        "    super(MPSLayer, self).__init__()\n",
        "    if n_sites % 2:\n",
        "        raise NotImplementedError(\"Number of sites should be even but is \"\n",
        "                                  \"{}.\".format(n_sites))\n",
        "    #分别对左矢、核、右矢进行初始化\n",
        "    self.n_half = n_sites // 2\n",
        "    self.left = tf.Variable(self._initializer(self.n_half, 2, d_bond),\n",
        "                            dtype=dtype, trainable=True)\n",
        "    self.right = tf.Variable(self._initializer(self.n_half, 2, d_bond),\n",
        "                             dtype=dtype, trainable=True)\n",
        "    self.middle = tf.Variable(self._initializer(n_output, 1, d_bond)[0],\n",
        "                              dtype=dtype, trainable=True)\n",
        "\n",
        "  @staticmethod#初始化权重\n",
        "  def _initializer(n_sites, d_phys, d_bond):\n",
        "    w = np.stack(d_phys * n_sites * [np.eye(d_bond)])\n",
        "    w = w.reshape((d_phys, n_sites, d_bond, d_bond))\n",
        "    return w + np.random.normal(0, 1e-2, size=w.shape)\n",
        "\n",
        "  def call(self, inputs):\n",
        "    left = tf.einsum(\"slij,bls->lbij\", self.left, inputs[:, :self.n_half])#左半部分连接张量与数据\n",
        "    right = tf.einsum(\"slij,bls->lbij\", self.right, inputs[:, self.n_half:])#右半部分连接张量与数据\n",
        "    left = self.reduction(left)#对左半边进行张量缩并\n",
        "    right = self.reduction(right)#对右半边进行张量缩并\n",
        "    f = tf.einsum(\"bij,cjk,bki->bc\", left, self.middle, right)#三者求内积得到函数求误差函数\n",
        "    return f\n",
        "\n",
        "  @staticmethod\n",
        "  def reduction(tensor):#定义缩并函数\n",
        "    size = int(tensor.shape[0])\n",
        "    while size > 1:\n",
        "      half_size = size // 2\n",
        "      nice_size = 2 * half_size\n",
        "      leftover = tensor[nice_size:]\n",
        "      tensor = tf.matmul(tensor[0:nice_size:2], tensor[1:nice_size:2])\n",
        "      tensor = tf.concat([tensor, leftover], axis=0)\n",
        "      size = half_size + int(size % 2 == 1)\n",
        "    return tensor[0]\n",
        "\n",
        "\n",
        "# 定义模型\n",
        "n_sites = x_train.shape[1]\n",
        "model = Sequential()\n",
        "model.add(MPSLayer(n_sites=n_sites, d_bond=d_bond, n_output=num_classes))#mps层\n",
        "model.add(layers.Softmax())\n",
        "\n",
        "\n",
        "# Compile and run\n",
        "model.compile(optimizer='Adam',loss=tf.keras.losses.categorical_crossentropy,\n",
        "              metrics=['accuracy'])\n",
        "from keras.callbacks import LearningRateScheduler\n",
        "annealer = LearningRateScheduler(lambda x: 1e-3 * 0.95 ** x, verbose=0)#学习率\n",
        "history = model.fit(x_train, y_train,\n",
        "          batch_size=128,\n",
        "          epochs=30,\n",
        "          verbose=1,\n",
        "          validation_data=(x_test, y_test),callbacks=[annealer])\n",
        "score = model.evaluate(x_test, y_test, verbose=0)\n",
        "plt.plot(history.history['accuracy'], label='accuracy')\n",
        "plt.plot(history.history['loss'], label='loss')\n",
        "plt.plot(history.history['val_loss'], label = 'val_loss')\n",
        "plt.plot(history.history['val_accuracy'], label = 'val_accuracy')\n",
        "plt.xlabel('Epoch')\n",
        "plt.ylabel('Accuracy')\n",
        "# plt.ylim([0.5, 1])\n",
        "plt.legend(loc='lower right')\n",
        "plt.show()\n",
        "\n",
        "print('Test loss:', score[0])\n",
        "print('Test accuracy:', score[1])"
      ],
      "metadata": {
        "id": "6rW6X0sx9hEE",
        "outputId": "ec7c4ccf-a46c-4eec-ea36-44f2db97dd40",
        "colab": {
          "base_uri": "https://localhost:8080/",
          "height": 1000
        }
      },
      "execution_count": 25,
      "outputs": [
        {
          "output_type": "stream",
          "name": "stdout",
          "text": [
            "Epoch 1/30\n",
            "WARNING:tensorflow:AutoGraph could not transform <bound method MPSLayer.call of <__main__.MPSLayer object at 0x7f80f795ea90>> and will run it as-is.\n",
            "Cause: Unable to locate the source code of <bound method MPSLayer.call of <__main__.MPSLayer object at 0x7f80f795ea90>>. Note that functions defined in certain environments, like the interactive Python shell, do not expose their source code. If that is the case, you should define them in a .py source file. If you are certain the code is graph-compatible, wrap the call using @tf.autograph.experimental.do_not_convert. Original error: could not get source code\n",
            "To silence this warning, decorate the function with @tf.autograph.experimental.do_not_convert\n",
            "WARNING: AutoGraph could not transform <bound method MPSLayer.call of <__main__.MPSLayer object at 0x7f80f795ea90>> and will run it as-is.\n",
            "Cause: Unable to locate the source code of <bound method MPSLayer.call of <__main__.MPSLayer object at 0x7f80f795ea90>>. Note that functions defined in certain environments, like the interactive Python shell, do not expose their source code. If that is the case, you should define them in a .py source file. If you are certain the code is graph-compatible, wrap the call using @tf.autograph.experimental.do_not_convert. Original error: could not get source code\n",
            "To silence this warning, decorate the function with @tf.autograph.experimental.do_not_convert\n",
            "469/469 [==============================] - 151s 316ms/step - loss: 0.6434 - accuracy: 0.7991 - val_loss: 0.2295 - val_accuracy: 0.9380 - lr: 0.0010\n",
            "Epoch 2/30\n",
            "469/469 [==============================] - 148s 316ms/step - loss: 0.2426 - accuracy: 0.9306 - val_loss: 0.1777 - val_accuracy: 0.9459 - lr: 9.5000e-04\n",
            "Epoch 3/30\n",
            "469/469 [==============================] - 147s 313ms/step - loss: 0.2076 - accuracy: 0.9417 - val_loss: 0.1756 - val_accuracy: 0.9537 - lr: 9.0250e-04\n",
            "Epoch 4/30\n",
            "469/469 [==============================] - 147s 313ms/step - loss: 0.1715 - accuracy: 0.9517 - val_loss: 0.1342 - val_accuracy: 0.9615 - lr: 8.5737e-04\n",
            "Epoch 5/30\n",
            "469/469 [==============================] - 147s 313ms/step - loss: 0.1614 - accuracy: 0.9552 - val_loss: 0.1895 - val_accuracy: 0.9522 - lr: 8.1451e-04\n",
            "Epoch 6/30\n",
            "469/469 [==============================] - 147s 313ms/step - loss: 0.1518 - accuracy: 0.9569 - val_loss: 0.1403 - val_accuracy: 0.9595 - lr: 7.7378e-04\n",
            "Epoch 7/30\n",
            "469/469 [==============================] - 147s 313ms/step - loss: 0.1359 - accuracy: 0.9605 - val_loss: 0.1329 - val_accuracy: 0.9639 - lr: 7.3509e-04\n",
            "Epoch 8/30\n",
            "469/469 [==============================] - 146s 312ms/step - loss: 0.1309 - accuracy: 0.9623 - val_loss: 0.1246 - val_accuracy: 0.9682 - lr: 6.9834e-04\n",
            "Epoch 9/30\n",
            "469/469 [==============================] - 146s 312ms/step - loss: 0.1240 - accuracy: 0.9650 - val_loss: 0.1323 - val_accuracy: 0.9595 - lr: 6.6342e-04\n",
            "Epoch 10/30\n",
            "469/469 [==============================] - 146s 312ms/step - loss: 0.1141 - accuracy: 0.9670 - val_loss: 0.1148 - val_accuracy: 0.9682 - lr: 6.3025e-04\n",
            "Epoch 11/30\n",
            "469/469 [==============================] - 147s 313ms/step - loss: 0.1065 - accuracy: 0.9687 - val_loss: 0.1458 - val_accuracy: 0.9610 - lr: 5.9874e-04\n",
            "Epoch 12/30\n",
            "469/469 [==============================] - 147s 313ms/step - loss: 0.1018 - accuracy: 0.9699 - val_loss: 0.1121 - val_accuracy: 0.9696 - lr: 5.6880e-04\n",
            "Epoch 13/30\n",
            "469/469 [==============================] - 146s 312ms/step - loss: 0.1010 - accuracy: 0.9703 - val_loss: 0.1315 - val_accuracy: 0.9642 - lr: 5.4036e-04\n",
            "Epoch 14/30\n",
            "469/469 [==============================] - 147s 313ms/step - loss: 0.0895 - accuracy: 0.9733 - val_loss: 0.1160 - val_accuracy: 0.9690 - lr: 5.1334e-04\n",
            "Epoch 15/30\n",
            "469/469 [==============================] - 147s 313ms/step - loss: 0.0863 - accuracy: 0.9740 - val_loss: 0.1216 - val_accuracy: 0.9734 - lr: 4.8767e-04\n",
            "Epoch 16/30\n",
            "469/469 [==============================] - 147s 313ms/step - loss: 0.0836 - accuracy: 0.9751 - val_loss: 0.1038 - val_accuracy: 0.9722 - lr: 4.6329e-04\n",
            "Epoch 17/30\n",
            "469/469 [==============================] - 147s 313ms/step - loss: 0.0827 - accuracy: 0.9749 - val_loss: 0.1050 - val_accuracy: 0.9734 - lr: 4.4013e-04\n",
            "Epoch 18/30\n",
            "469/469 [==============================] - 147s 314ms/step - loss: 0.0752 - accuracy: 0.9770 - val_loss: 0.0976 - val_accuracy: 0.9743 - lr: 4.1812e-04\n",
            "Epoch 19/30\n",
            "469/469 [==============================] - 146s 312ms/step - loss: 0.0685 - accuracy: 0.9783 - val_loss: 0.1137 - val_accuracy: 0.9733 - lr: 3.9721e-04\n",
            "Epoch 20/30\n",
            "469/469 [==============================] - 147s 313ms/step - loss: 0.0721 - accuracy: 0.9776 - val_loss: 0.0998 - val_accuracy: 0.9725 - lr: 3.7735e-04\n",
            "Epoch 21/30\n",
            "469/469 [==============================] - 147s 313ms/step - loss: 0.0630 - accuracy: 0.9797 - val_loss: 0.0994 - val_accuracy: 0.9747 - lr: 3.5849e-04\n",
            "Epoch 22/30\n",
            "469/469 [==============================] - 147s 313ms/step - loss: 0.0611 - accuracy: 0.9803 - val_loss: 0.1400 - val_accuracy: 0.9744 - lr: 3.4056e-04\n",
            "Epoch 23/30\n",
            "469/469 [==============================] - 147s 313ms/step - loss: 0.0595 - accuracy: 0.9815 - val_loss: 0.1111 - val_accuracy: 0.9727 - lr: 3.2353e-04\n",
            "Epoch 24/30\n",
            "469/469 [==============================] - 147s 313ms/step - loss: 0.0581 - accuracy: 0.9817 - val_loss: 0.0995 - val_accuracy: 0.9767 - lr: 3.0736e-04\n",
            "Epoch 25/30\n",
            "469/469 [==============================] - 146s 312ms/step - loss: 0.0544 - accuracy: 0.9823 - val_loss: 0.1208 - val_accuracy: 0.9750 - lr: 2.9199e-04\n",
            "Epoch 26/30\n",
            "469/469 [==============================] - 147s 313ms/step - loss: 0.0498 - accuracy: 0.9838 - val_loss: 0.1222 - val_accuracy: 0.9764 - lr: 2.7739e-04\n",
            "Epoch 27/30\n",
            "469/469 [==============================] - 147s 313ms/step - loss: 0.0497 - accuracy: 0.9837 - val_loss: 0.1095 - val_accuracy: 0.9754 - lr: 2.6352e-04\n",
            "Epoch 28/30\n",
            "469/469 [==============================] - 147s 314ms/step - loss: 0.0469 - accuracy: 0.9847 - val_loss: 0.1126 - val_accuracy: 0.9772 - lr: 2.5034e-04\n",
            "Epoch 29/30\n",
            "469/469 [==============================] - 147s 313ms/step - loss: 0.0494 - accuracy: 0.9839 - val_loss: 0.1099 - val_accuracy: 0.9784 - lr: 2.3783e-04\n",
            "Epoch 30/30\n",
            "469/469 [==============================] - 147s 313ms/step - loss: 0.0442 - accuracy: 0.9851 - val_loss: 0.1035 - val_accuracy: 0.9762 - lr: 2.2594e-04\n"
          ]
        },
        {
          "output_type": "display_data",
          "data": {
            "image/png": "[encoded data removed]",
            "text/plain": [
              "<Figure size 432x288 with 1 Axes>"
            ]
          },
          "metadata": {
            "needs_background": "light"
          }
        },
        {
          "output_type": "stream",
          "name": "stdout",
          "text": [
            "Test loss: 0.10348210483789444\n",
            "Test accuracy: 0.9761999845504761\n",
            "CPU times: user 2h 17min 59s, sys: 2min 10s, total: 2h 20min 10s\n",
            "Wall time: 1h 14min 35s\n"
          ]
        }
      ]
    },
    {
      "cell_type": "code",
      "source": [
        "plt.plot(history.history['accuracy'], label='train_accuracy')\n",
        "plt.plot(history.history['val_accuracy'], label = 'val_accuracy')\n",
        "plt.xlabel('Epoch')\n",
        "plt.ylabel('Accuracy')\n",
        "plt.ylim([0.95, 1])\n",
        "plt.legend(loc='lower right')\n",
        "plt.show()"
      ],
      "metadata": {
        "colab": {
          "base_uri": "https://localhost:8080/",
          "height": 283
        },
        "id": "OuPas-1fKxwo",
        "outputId": "26f2e18e-0617-49a3-c72c-cb9610655179"
      },
      "execution_count": 21,
      "outputs": [
        {
          "output_type": "display_data",
          "data": {
            "image/png": "[encoded data removed]",
            "text/plain": [
              "<Figure size 432x288 with 1 Axes>"
            ]
          },
          "metadata": {
            "needs_background": "light"
          }
        }
      ]
    }
  ]
}
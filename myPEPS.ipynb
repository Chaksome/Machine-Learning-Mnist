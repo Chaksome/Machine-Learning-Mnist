{
  "cells": [
    {
      "cell_type": "markdown",
      "metadata": {
        "id": "view-in-github",
        "colab_type": "text"
      },
      "source": [
        "<a href=\"https://colab.research.google.com/github/Chaksome/Machine-Learning-Mnist/blob/main/myPEPS.ipynb\" target=\"_parent\"><img src=\"https://colab.research.google.com/assets/colab-badge.svg\" alt=\"Open In Colab\"/></a>"
      ]
    },
    {
      "cell_type": "code",
      "execution_count": 1,
      "metadata": {
        "colab": {
          "base_uri": "https://localhost:8080/"
        },
        "id": "3sbqF4AnupvP",
        "outputId": "def8df29-e32f-466a-ba89-954964cd7bc9"
      },
      "outputs": [
        {
          "output_type": "stream",
          "name": "stdout",
          "text": [
            "CPU times: user 2.41 s, sys: 345 ms, total: 2.75 s\n",
            "Wall time: 2.67 s\n"
          ]
        }
      ],
      "source": [
        "%%time\n",
        "import numpy as np\n",
        "import tensorflow as tf\n",
        "from tensorflow.keras import layers\n",
        "from tensorflow.keras.models import Sequential"
      ]
    },
    {
      "cell_type": "markdown",
      "source": [
        "CNN-PEPS"
      ],
      "metadata": {
        "id": "VyvTKTQmvp5M"
      }
    },
    {
      "cell_type": "code",
      "execution_count": 2,
      "metadata": {
        "colab": {
          "base_uri": "https://localhost:8080/"
        },
        "id": "kWias0ZCvJ_r",
        "outputId": "9ce2fb3c-7cad-4bec-e19f-2610fcc5c74b"
      },
      "outputs": [
        {
          "output_type": "stream",
          "name": "stdout",
          "text": [
            "Downloading data from https://storage.googleapis.com/tensorflow/tf-keras-datasets/mnist.npz\n",
            "11493376/11490434 [==============================] - 1s 0us/step\n",
            "11501568/11490434 [==============================] - 1s 0us/step\n"
          ]
        }
      ],
      "source": [
        "dim0 =28;\n",
        "\n",
        "batch_size = 128\n",
        "num_classes = 10\n",
        "epochs = 20\n",
        "d_bond = 4\n",
        "def preprocess_images(x):\n",
        "  n_data, dim0, dim1 = tuple(x.shape)\n",
        "  n_sites = dim0 * dim1\n",
        "  x = x/255.0\n",
        "  xx = tf.cast(tf.math.greater(x, 0.5), dtype=tf.int32)\n",
        "  y = tf.keras.utils.to_categorical(xx, 2)\n",
        "  for k in range(len(x)):\n",
        "      for i in range(len(x[0])):\n",
        "        for j in range(len(x[0][0])):\n",
        "           #1\n",
        "     #       y[k][i] = [np.cos(x[k][i]*np.pi/2)**2, np.sin(x[k][i]*np.pi/2)**2]\n",
        "           y[k][i][j] = [x[k][i][j], 1-x[k][i][j]]\n",
        "     #       if x[k][i] <= 0.5 :\n",
        "      #          y[k][i] = [1, 0]\n",
        "       #     else:\n",
        "        #        y[k][i] = [0, 1]\n",
        "  return y\n",
        "\n",
        "\n",
        "(x_train, y_train), (x_test, y_test) = tf.keras.datasets.mnist.load_data()\n",
        "#visulization\n",
        "from scipy.ndimage import interpolation\n",
        "\n",
        "#抗扭斜函数\n",
        "\n",
        "def moments(image):#计算图片的矩\n",
        "    c0,c1 = np.mgrid[:image.shape[0],:image.shape[1]] \n",
        "    totalImage = np.sum(image) \n",
        "    m0 = np.sum(c0*image)/totalImage \n",
        "    m1 = np.sum(c1*image)/totalImage \n",
        "    m00 = np.sum((c0-m0)**2*image)/totalImage \n",
        "    m11 = np.sum((c1-m1)**2*image)/totalImage \n",
        "    m01 = np.sum((c0-m0)*(c1-m1)*image)/totalImage \n",
        "    mu_vector = np.array([m0,m1]) \n",
        "    covariance_matrix = np.array([[m00,m01],[m01,m11]]) \n",
        "    return mu_vector, covariance_matrix\n",
        "\n",
        "def deskew(image):#根据计算结果旋转图片，抗扭斜\n",
        "    c,v = moments(image)\n",
        "    alpha = v[0,1]/v[0,0]\n",
        "    affine = np.array([[1,0],[alpha,1]])\n",
        "    ocenter = np.array(image.shape)/2.0\n",
        "    offset = c-np.dot(affine,ocenter)\n",
        "    return interpolation.affine_transform(image,affine,offset=offset)\n",
        "def deskewAll(X):\n",
        "    currents = []\n",
        "    for i in range(len(X)):\n",
        "        currents.append(deskew(X[i].reshape(28,28)))\n",
        "    return np.array(currents)\n",
        "\n",
        "x_train = deskewAll(x_train)\n",
        "x_test = deskewAll(x_test)\n",
        "mu = 0\n",
        "sigma = 0.5\n",
        "#X_train = (X_train+np.random.normal(mu, sigma,size=X_train.shape))%255\n",
        "#X_test = (X_test+np.random.normal(mu, sigma,size=X_test.shape))%255\n",
        "\n",
        "y_train = tf.keras.utils.to_categorical(y_train, num_classes)\n",
        "y_test = tf.keras.utils.to_categorical(y_test, num_classes)\n",
        "x_train = x_train.reshape(x_train.shape[0], 28, 28,1)\n",
        "x_test = x_test.reshape(x_test.shape[0], 28, 28,1)\n",
        "x_train = x_train.astype('float32')\n",
        "x_test = x_test.astype('float32')\n",
        "x_train /= 255.0\n",
        "x_test /= 255.0\n",
        "\n",
        "#x_train = preprocess_images(x_train)\n",
        "#x_test = preprocess_images(x_test)"
      ]
    },
    {
      "cell_type": "markdown",
      "metadata": {
        "id": "p2N8DkOmCB9E"
      },
      "source": [
        "PurePEPS"
      ]
    },
    {
      "cell_type": "code",
      "execution_count": 3,
      "metadata": {
        "id": "EB50pTTMB8Dm"
      },
      "outputs": [],
      "source": [
        "dim0 =28;\n",
        "def preprocess_images(x):\n",
        "  n_data, dim0, dim1 = tuple(x.shape)\n",
        "  n_sites = dim0 * dim1\n",
        "  x = x/255.0\n",
        "  xx = tf.cast(tf.math.greater(x, 0.5), dtype=tf.int32)\n",
        "  y = tf.keras.utils.to_categorical(xx, 2)\n",
        "  for k in range(len(x)):\n",
        "      for i in range(len(x[0])):\n",
        "        for j in range(len(x[0][0])):\n",
        "           #1\n",
        "     #       y[k][i] = [np.cos(x[k][i]*np.pi/2)**2, np.sin(x[k][i]*np.pi/2)**2]\n",
        "           y[k][i][j] = [x[k][i][j], 1-x[k][i][j]]\n",
        "     #       if x[k][i] <= 0.5 :\n",
        "      #          y[k][i] = [1, 0]\n",
        "       #     else:\n",
        "        #        y[k][i] = [0, 1]\n",
        "  return y\n",
        "\n",
        "\n",
        "(x_train, y_train), (x_test, y_test) = tf.keras.datasets.mnist.load_data()\n",
        "\n",
        "from scipy.ndimage import interpolation\n",
        "\n",
        "def moments(image):#计算图片的矩\n",
        "    c0,c1 = np.mgrid[:image.shape[0],:image.shape[1]] \n",
        "    totalImage = np.sum(image) \n",
        "    m0 = np.sum(c0*image)/totalImage \n",
        "    m1 = np.sum(c1*image)/totalImage \n",
        "    m00 = np.sum((c0-m0)**2*image)/totalImage \n",
        "    m11 = np.sum((c1-m1)**2*image)/totalImage \n",
        "    m01 = np.sum((c0-m0)*(c1-m1)*image)/totalImage \n",
        "    mu_vector = np.array([m0,m1]) \n",
        "    covariance_matrix = np.array([[m00,m01],[m01,m11]]) \n",
        "    return mu_vector, covariance_matrix\n",
        "\n",
        "def deskew(image):#根据计算结果旋转图片，抗扭斜\n",
        "    c,v = moments(image)\n",
        "    alpha = v[0,1]/v[0,0]\n",
        "    affine = np.array([[1,0],[alpha,1]])\n",
        "    ocenter = np.array(image.shape)/2.0\n",
        "    offset = c-np.dot(affine,ocenter)\n",
        "    return interpolation.affine_transform(image,affine,offset=offset)\n",
        "def deskewAll(X):\n",
        "    currents = []\n",
        "    for i in range(len(X)):\n",
        "        currents.append(deskew(X[i].reshape(28,28)))\n",
        "    return np.array(currents)\n",
        "\n",
        "x_train = deskewAll(x_train)\n",
        "x_test = deskewAll(x_test)\n",
        "mu = 0\n",
        "sigma = 0.5\n",
        "#X_train = (X_train+np.random.normal(mu, sigma,size=X_train.shape))%255\n",
        "#X_test = (X_test+np.random.normal(mu, sigma,size=X_test.shape))%255\n",
        "\n",
        "y_train = tf.keras.utils.to_categorical(y_train, num_classes)\n",
        "y_test = tf.keras.utils.to_categorical(y_test, num_classes)\n",
        "\n",
        "x_train = preprocess_images(x_train)\n",
        "x_test = preprocess_images(x_test)"
      ]
    },
    {
      "cell_type": "code",
      "execution_count": 7,
      "metadata": {
        "colab": {
          "base_uri": "https://localhost:8080/"
        },
        "id": "sgcyiruKCFHN",
        "outputId": "e30d97f6-385f-4727-8ca2-5aeb1249464c"
      },
      "outputs": [
        {
          "output_type": "stream",
          "name": "stdout",
          "text": [
            "Epoch 1/30\n",
            "300/300 [==============================] - 556s 2s/step - loss: 0.6871 - accuracy: 0.7650 - val_loss: 0.2470 - val_accuracy: 0.9236 - lr: 0.0010\n",
            "Epoch 2/30\n",
            "300/300 [==============================] - 525s 2s/step - loss: 0.2343 - accuracy: 0.9276 - val_loss: 0.1893 - val_accuracy: 0.9392 - lr: 9.5000e-04\n",
            "Epoch 3/30\n",
            "300/300 [==============================] - 526s 2s/step - loss: 0.1902 - accuracy: 0.9421 - val_loss: 0.1596 - val_accuracy: 0.9524 - lr: 9.0250e-04\n",
            "Epoch 4/30\n",
            "300/300 [==============================] - 526s 2s/step - loss: 0.1681 - accuracy: 0.9480 - val_loss: 0.1559 - val_accuracy: 0.9533 - lr: 8.5737e-04\n",
            "Epoch 5/30\n",
            "300/300 [==============================] - 526s 2s/step - loss: 0.1566 - accuracy: 0.9522 - val_loss: 0.1435 - val_accuracy: 0.9558 - lr: 8.1451e-04\n",
            "Epoch 6/30\n",
            "300/300 [==============================] - 526s 2s/step - loss: 0.1460 - accuracy: 0.9544 - val_loss: 0.1747 - val_accuracy: 0.9472 - lr: 7.7378e-04\n",
            "Epoch 7/30\n",
            "300/300 [==============================] - 526s 2s/step - loss: 0.1450 - accuracy: 0.9547 - val_loss: 0.1488 - val_accuracy: 0.9549 - lr: 7.3509e-04\n",
            "Epoch 8/30\n",
            "300/300 [==============================] - 526s 2s/step - loss: 0.1402 - accuracy: 0.9565 - val_loss: 0.1401 - val_accuracy: 0.9574 - lr: 6.9834e-04\n",
            "Epoch 9/30\n",
            "300/300 [==============================] - 526s 2s/step - loss: 0.1308 - accuracy: 0.9588 - val_loss: 0.1327 - val_accuracy: 0.9615 - lr: 6.6342e-04\n",
            "Epoch 10/30\n",
            "300/300 [==============================] - 526s 2s/step - loss: 0.1264 - accuracy: 0.9597 - val_loss: 0.1300 - val_accuracy: 0.9606 - lr: 6.3025e-04\n",
            "Epoch 11/30\n",
            "300/300 [==============================] - 527s 2s/step - loss: 0.1265 - accuracy: 0.9603 - val_loss: 0.1443 - val_accuracy: 0.9569 - lr: 5.9874e-04\n",
            "Epoch 12/30\n",
            "300/300 [==============================] - 529s 2s/step - loss: 0.1187 - accuracy: 0.9626 - val_loss: 0.1277 - val_accuracy: 0.9629 - lr: 5.6880e-04\n",
            "Epoch 13/30\n",
            "300/300 [==============================] - 529s 2s/step - loss: 0.1183 - accuracy: 0.9625 - val_loss: 0.1294 - val_accuracy: 0.9620 - lr: 5.4036e-04\n",
            "Epoch 14/30\n",
            "300/300 [==============================] - 529s 2s/step - loss: 0.1143 - accuracy: 0.9633 - val_loss: 0.1331 - val_accuracy: 0.9604 - lr: 5.1334e-04\n",
            "Epoch 15/30\n",
            "300/300 [==============================] - 529s 2s/step - loss: 0.1098 - accuracy: 0.9653 - val_loss: 0.1224 - val_accuracy: 0.9647 - lr: 4.8767e-04\n",
            "Epoch 16/30\n",
            "300/300 [==============================] - 529s 2s/step - loss: 0.1067 - accuracy: 0.9655 - val_loss: 0.1160 - val_accuracy: 0.9662 - lr: 4.6329e-04\n",
            "Epoch 17/30\n",
            "300/300 [==============================] - 529s 2s/step - loss: 0.1036 - accuracy: 0.9666 - val_loss: 0.1271 - val_accuracy: 0.9633 - lr: 4.4013e-04\n",
            "Epoch 18/30\n",
            "300/300 [==============================] - 529s 2s/step - loss: 0.1000 - accuracy: 0.9675 - val_loss: 0.1215 - val_accuracy: 0.9645 - lr: 4.1812e-04\n",
            "Epoch 19/30\n",
            "300/300 [==============================] - 529s 2s/step - loss: 0.0995 - accuracy: 0.9675 - val_loss: 0.1204 - val_accuracy: 0.9651 - lr: 3.9721e-04\n",
            "Epoch 20/30\n",
            "300/300 [==============================] - 529s 2s/step - loss: 0.0953 - accuracy: 0.9689 - val_loss: 0.1186 - val_accuracy: 0.9657 - lr: 3.7735e-04\n",
            "Epoch 21/30\n",
            "300/300 [==============================] - 529s 2s/step - loss: 0.0942 - accuracy: 0.9698 - val_loss: 0.1341 - val_accuracy: 0.9623 - lr: 3.5849e-04\n",
            "Epoch 22/30\n",
            "300/300 [==============================] - 529s 2s/step - loss: 0.0927 - accuracy: 0.9701 - val_loss: 0.1212 - val_accuracy: 0.9657 - lr: 3.4056e-04\n",
            "Epoch 23/30\n",
            "300/300 [==============================] - 529s 2s/step - loss: 0.0912 - accuracy: 0.9701 - val_loss: 0.1220 - val_accuracy: 0.9667 - lr: 3.2353e-04\n",
            "Epoch 24/30\n",
            "300/300 [==============================] - 529s 2s/step - loss: 0.0887 - accuracy: 0.9708 - val_loss: 0.1214 - val_accuracy: 0.9666 - lr: 3.0736e-04\n",
            "Epoch 25/30\n",
            "300/300 [==============================] - 529s 2s/step - loss: 0.0887 - accuracy: 0.9715 - val_loss: 0.1161 - val_accuracy: 0.9662 - lr: 2.9199e-04\n",
            "Epoch 26/30\n",
            "300/300 [==============================] - 529s 2s/step - loss: 0.0862 - accuracy: 0.9717 - val_loss: 0.1210 - val_accuracy: 0.9658 - lr: 2.7739e-04\n",
            "Epoch 27/30\n",
            "300/300 [==============================] - 530s 2s/step - loss: 0.0849 - accuracy: 0.9720 - val_loss: 0.1308 - val_accuracy: 0.9639 - lr: 2.6352e-04\n",
            "Epoch 28/30\n",
            "300/300 [==============================] - 530s 2s/step - loss: 0.0839 - accuracy: 0.9723 - val_loss: 0.1393 - val_accuracy: 0.9653 - lr: 2.5034e-04\n",
            "Epoch 29/30\n",
            "300/300 [==============================] - 530s 2s/step - loss: 0.0818 - accuracy: 0.9730 - val_loss: 0.1268 - val_accuracy: 0.9666 - lr: 2.3783e-04\n",
            "Epoch 30/30\n",
            "300/300 [==============================] - 530s 2s/step - loss: 0.0820 - accuracy: 0.9734 - val_loss: 0.1229 - val_accuracy: 0.9652 - lr: 2.2594e-04\n",
            "Test loss: 0.019650092348456383\n",
            "Test accuracy: 0.15418531000614166\n"
          ]
        }
      ],
      "source": [
        "\n",
        "batch_size = 200\n",
        "num_classes = 10\n",
        "epochs = 30\n",
        "d_bond = 3\n",
        "dim0 = 28\n",
        "class PEPSLayer(layers.Layer):\n",
        "\n",
        "  def __init__(self, dim0, d_bond, n_output, dtype=tf.float32):\n",
        "    super(PEPSLayer, self).__init__()\n",
        "    if dim0 % 2:\n",
        "        raise NotImplementedError(\"Number of sites should be even but is \"\n",
        "                                  \"{}.\".format(dim0))\n",
        "\n",
        "    self.n_half = dim0 // 2\n",
        "    self.left = tf.Variable(self._initializer(self.n_half,dim0, 2, d_bond),\n",
        "                            dtype=dtype, trainable=True)\n",
        "    self.right = tf.Variable(self._initializer(self.n_half,dim0, 2, d_bond),\n",
        "                             dtype=dtype, trainable=True)\n",
        "    self.middle = tf.Variable(self._initializermiddle(n_output, dim0,1, d_bond)[0],\n",
        "                              dtype=dtype, trainable=True)\n",
        "\n",
        "  @staticmethod\n",
        "  #初始化四个部分的低阶张量网络\n",
        "  def _initializer(dim0,dim1, d_phys, d_bond):\n",
        "    w = np.stack(d_phys * dim0*dim1 * [np.eye(d_bond**2)])\n",
        "    w = w.reshape((d_phys, dim0, dim1, d_bond, d_bond, d_bond, d_bond))\n",
        "    return w + np.random.normal(0, 1e-2, size=w.shape)\n",
        "\n",
        "  @staticmethod\n",
        "  #初始化中间的核\n",
        "  def _initializermiddle(dim0,dim1, d_phys, d_bond):\n",
        "    w = np.stack(d_phys * dim0 * [np.eye(d_bond**4)])\n",
        "    w = w.reshape((d_phys, dim0, d_bond, d_bond, d_bond, d_bond, d_bond, d_bond, d_bond, d_bond))\n",
        "    return w + np.random.normal(0, 1e-2, size=w.shape)\n",
        "\n",
        "  def call(self, inputs):\n",
        "    num = int(inputs.shape[0]//1)\n",
        "    leftt = np.stack(num * dim0*dim0//2 * [np.eye(d_bond**2)])\n",
        "    leftt = leftt.reshape(dim0,dim0//2,num,d_bond,d_bond,d_bond,d_bond)\n",
        "    rightt = np.stack(num * dim0*dim0//2 * [np.eye(d_bond**2)])\n",
        "    rightt = rightt.reshape(dim0,dim0//2,num,d_bond,d_bond,d_bond,d_bond)\n",
        "\n",
        "    aaa = inputs\n",
        "    for m in range(dim0):\n",
        "      nowleftt = tf.einsum(\"slijxy,bls->lbijxy\", self.left[:,:,m-1], aaa[:,:self.n_half,m-1])\n",
        "      nowrightt = tf.einsum(\"slijxy,bls->lbijxy\", self.right[:,:,m-1], aaa[:,self.n_half:,m-1])\n",
        "      nowlefttt = self.reduction(nowleftt)\n",
        "      nowrighttt = self.reduction(nowrightt)\n",
        "      #以下操作用于结合数据以及投影函数\n",
        "      if m == 0:\n",
        "        lefttt = nowlefttt\n",
        "        righttt = nowrighttt\n",
        "      if m == 1:\n",
        "        lefttt = tf.stack([lefttt, nowlefttt], axis = 0)\n",
        "        righttt = tf.stack([righttt, nowrighttt], axis =0)\n",
        "      if m > 1:\n",
        "        lefttt = tf.concat([lefttt, tf.stack([nowlefttt],0)], axis = 0)\n",
        "        righttt = tf.concat([righttt, tf.stack([nowrighttt],0)], axis =0)    \n",
        "\n",
        "    \n",
        "    lefttop = lefttt[:dim0//2]\n",
        "    leftbot = lefttt[dim0//2:]\n",
        "    rightbot = righttt[dim0//2:]\n",
        "    righttop = righttt[:dim0//2]\n",
        "\n",
        "    lefttop = self.reduction(lefttop)#左上部分缩并\n",
        "    righttop = self.reduction(righttop)#右上部分缩并\n",
        "    rightbot = self.reduction(rightbot)#左下部分缩并\n",
        "    leftbot = self.reduction(leftbot)#右下部分缩并\n",
        "    #同MPS原理相同，只不过此处是左上、左下，右上，右下四个部分与核作内积\n",
        "\n",
        "    f = tf.einsum(\"bjwie,bxlif,cefghwxyz,bzlhk,bjygk->bc\", lefttop, righttop,self.middle,rightbot,leftbot)#爱因斯坦求和约定求误差决定函数\n",
        "    return f\n",
        "\n",
        "  @staticmethod\n",
        "  def reduction(tensor):\n",
        "    size = int(tensor.shape[0])\n",
        "    while size > 1:\n",
        "      half_size = size // 2\n",
        "      nice_size = 2 * half_size\n",
        "      leftover = tensor[nice_size:]\n",
        "      tensor = tf.matmul(tensor[0:nice_size:2], tensor[1:nice_size:2])\n",
        "      tensor = tf.concat([tensor, leftover], axis=0)\n",
        "      size = half_size + int(size % 2 == 1)\n",
        "    y = tensor[0]\n",
        "    return y\n",
        "\n",
        "\n",
        "# Define model\n",
        "input_shape = (28,28,3)\n",
        "model = Sequential()\n",
        "\n",
        "model.add(PEPSLayer(dim0 = dim0, d_bond=d_bond, n_output=num_classes))\n",
        "model.add(layers.Softmax())\n",
        "\n",
        "\n",
        "# Compile and run\n",
        "model.compile(optimizer='Adam',loss=tf.keras.losses.categorical_crossentropy,\n",
        "              metrics=['accuracy'])\n",
        "from keras.callbacks import LearningRateScheduler\n",
        "annealer = LearningRateScheduler(lambda x: 1e-3 * 0.95 ** x, verbose=0)\n",
        "history = model.fit(x_train, y_train,\n",
        "          batch_size=batch_size,\n",
        "          epochs=epochs,\n",
        "          verbose=1,\n",
        "          validation_data=(x_test, y_test),callbacks=[annealer])\n",
        "score = model.evaluate(x_test, y_test, verbose=0)\n",
        "\n",
        "print('Test loss:', score[0])\n",
        "print('Test accuracy:', score[1])"
      ]
    },
    {
      "cell_type": "code",
      "source": [
        "\n",
        "\n",
        "#加载训练好的模型\n",
        "from google.colab import drive\n",
        "drive.mount('/content/drive')\n",
        "\n",
        "import os\n",
        "os.chdir('/content/drive/My Drive')\n",
        "model = tf.keras.models.load_model('saved_model/my_pepsmodel')"
      ],
      "metadata": {
        "colab": {
          "base_uri": "https://localhost:8080/"
        },
        "id": "qt_txxqvgovS",
        "outputId": "8b535310-12b2-4706-eaef-a3b2733c8514"
      },
      "execution_count": 6,
      "outputs": [
        {
          "output_type": "stream",
          "name": "stdout",
          "text": [
            "Drive already mounted at /content/drive; to attempt to forcibly remount, call drive.mount(\"/content/drive\", force_remount=True).\n"
          ]
        }
      ]
    },
    {
      "cell_type": "code",
      "source": [
        "import matplotlib.pyplot as plt\n",
        "plt.plot(history.history['accuracy'], label='accuracy')\n",
        "plt.plot(history.history['val_accuracy'], label='val_accuracy')\n",
        "plt.xlabel('epoches')\n",
        "plt.ylabel('Accuracy')\n",
        "plt.legend(loc='lower right')"
      ],
      "metadata": {
        "colab": {
          "base_uri": "https://localhost:8080/",
          "height": 296
        },
        "id": "ud-7pPMwO17i",
        "outputId": "67218eb7-df0f-4b72-dc51-8796a7a936ab"
      },
      "execution_count": 11,
      "outputs": [
        {
          "output_type": "execute_result",
          "data": {
            "text/plain": [
              "<matplotlib.legend.Legend at 0x7f2a58827a90>"
            ]
          },
          "metadata": {},
          "execution_count": 11
        },
        {
          "output_type": "display_data",
          "data": {
            "image/png": "[encoded data removed]",
            "text/plain": [
              "<Figure size 432x288 with 1 Axes>"
            ]
          },
          "metadata": {
            "needs_background": "light"
          }
        }
      ]
    }
  ],
  "metadata": {
    "colab": {
      "collapsed_sections": [],
      "name": "myPEPS.ipynb",
      "provenance": [],
      "authorship_tag": "ABX9TyMZJF3E97wL1Z2uxIX9Lnnh",
      "include_colab_link": true
    },
    "kernelspec": {
      "display_name": "Python 3",
      "name": "python3"
    },
    "language_info": {
      "name": "python"
    }
  },
  "nbformat": 4,
  "nbformat_minor": 0
}
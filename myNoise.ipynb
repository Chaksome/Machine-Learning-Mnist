{
  "nbformat": 4,
  "nbformat_minor": 0,
  "metadata": {
    "colab": {
      "name": "myNoise.ipynb",
      "provenance": [],
      "authorship_tag": "ABX9TyNnavCUW3StkyBVEv+pe3kq",
      "include_colab_link": true
    },
    "kernelspec": {
      "name": "python3",
      "display_name": "Python 3"
    },
    "language_info": {
      "name": "python"
    }
  },
  "cells": [
    {
      "cell_type": "markdown",
      "metadata": {
        "id": "view-in-github",
        "colab_type": "text"
      },
      "source": [
        "<a href=\"https://colab.research.google.com/github/Chaksome/Machine-Learning-Mnist/blob/main/myNoise.ipynb\" target=\"_parent\"><img src=\"https://colab.research.google.com/assets/colab-badge.svg\" alt=\"Open In Colab\"/></a>"
      ]
    },
    {
      "cell_type": "code",
      "execution_count": 1,
      "metadata": {
        "colab": {
          "base_uri": "https://localhost:8080/"
        },
        "id": "zJ7T636Qvrw3",
        "outputId": "08ca1851-3f47-430a-b8f5-cdae2c0af881"
      },
      "outputs": [
        {
          "output_type": "stream",
          "name": "stdout",
          "text": [
            "CPU times: user 2.22 s, sys: 328 ms, total: 2.54 s\n",
            "Wall time: 2.45 s\n"
          ]
        }
      ],
      "source": [
        "%%time\n",
        "import numpy as np\n",
        "import tensorflow as tf\n",
        "from tensorflow.keras import layers\n",
        "from tensorflow.keras.models import Sequential"
      ]
    },
    {
      "cell_type": "code",
      "source": [
        "import numpy as np\n",
        "import random\n",
        "from keras.datasets import mnist\n",
        "from keras.models import Sequential\n",
        "from keras.layers import Dense, Dropout, Activation, Flatten\n",
        "from keras.layers import Convolution2D, MaxPooling2D\n",
        "from keras.utils import np_utils\n",
        "import matplotlib.pyplot as plt"
      ],
      "metadata": {
        "id": "yCpWwG5xv5kC"
      },
      "execution_count": 3,
      "outputs": []
    },
    {
      "cell_type": "code",
      "source": [
        "(X_train, y_train), (X_test, y_test) = mnist.load_data()#load the raw data"
      ],
      "metadata": {
        "colab": {
          "base_uri": "https://localhost:8080/"
        },
        "id": "qCLBt6Pkv-r4",
        "outputId": "0b1290ad-4edc-4777-d5c7-4581f98b6776"
      },
      "execution_count": 3,
      "outputs": [
        {
          "output_type": "stream",
          "name": "stdout",
          "text": [
            "Downloading data from https://storage.googleapis.com/tensorflow/tf-keras-datasets/mnist.npz\n",
            "11493376/11490434 [==============================] - 0s 0us/step\n",
            "11501568/11490434 [==============================] - 0s 0us/step\n"
          ]
        }
      ]
    },
    {
      "cell_type": "code",
      "source": [
        "batch_size = 128#设置batchsize\n",
        "nb_classes = 10\n",
        "nb_epoch = 16#设置epoch\n",
        "img_rows, img_cols = 28, 28\n",
        "nb_filters = 32\n",
        "pool_size = (2, 2)\n",
        "kernel_size = (3, 3)"
      ],
      "metadata": {
        "id": "QuAPFXamwEzN"
      },
      "execution_count": 4,
      "outputs": []
    },
    {
      "cell_type": "code",
      "source": [
        "#加载训练好的模型\n",
        "from google.colab import drive\n",
        "drive.mount('/content/drive')\n",
        "\n",
        "import os\n",
        "os.chdir('/content/drive/My Drive')\n",
        "model = tf.keras.models.load_model('saved_model/my_model')\n",
        "model.summary()"
      ],
      "metadata": {
        "colab": {
          "base_uri": "https://localhost:8080/"
        },
        "id": "kCJ7GrrowPsu",
        "outputId": "10298b3c-f0b7-4856-ba18-f77ee25848d5"
      },
      "execution_count": 7,
      "outputs": [
        {
          "output_type": "stream",
          "name": "stdout",
          "text": [
            "Mounted at /content/drive\n",
            "Model: \"sequential\"\n",
            "_________________________________________________________________\n",
            " Layer (type)                Output Shape              Param #   \n",
            "=================================================================\n",
            " conv2d (Conv2D)             (None, 26, 26, 28)        280       \n",
            "                                                                 \n",
            " batch_normalization (BatchN  (None, 26, 26, 28)       112       \n",
            " ormalization)                                                   \n",
            "                                                                 \n",
            " conv2d_1 (Conv2D)           (None, 24, 24, 28)        7084      \n",
            "                                                                 \n",
            " batch_normalization_1 (Batc  (None, 24, 24, 28)       112       \n",
            " hNormalization)                                                 \n",
            "                                                                 \n",
            " conv2d_2 (Conv2D)           (None, 12, 12, 28)        19628     \n",
            "                                                                 \n",
            " batch_normalization_2 (Batc  (None, 12, 12, 28)       112       \n",
            " hNormalization)                                                 \n",
            "                                                                 \n",
            " dropout (Dropout)           (None, 12, 12, 28)        0         \n",
            "                                                                 \n",
            " conv2d_3 (Conv2D)           (None, 10, 10, 56)        14168     \n",
            "                                                                 \n",
            " batch_normalization_3 (Batc  (None, 10, 10, 56)       224       \n",
            " hNormalization)                                                 \n",
            "                                                                 \n",
            " conv2d_4 (Conv2D)           (None, 8, 8, 56)          28280     \n",
            "                                                                 \n",
            " batch_normalization_4 (Batc  (None, 8, 8, 56)         224       \n",
            " hNormalization)                                                 \n",
            "                                                                 \n",
            " conv2d_5 (Conv2D)           (None, 4, 4, 56)          78456     \n",
            "                                                                 \n",
            " batch_normalization_5 (Batc  (None, 4, 4, 56)         224       \n",
            " hNormalization)                                                 \n",
            "                                                                 \n",
            " dropout_1 (Dropout)         (None, 4, 4, 56)          0         \n",
            "                                                                 \n",
            " flatten (Flatten)           (None, 896)               0         \n",
            "                                                                 \n",
            " dense (Dense)               (None, 256)               229632    \n",
            "                                                                 \n",
            " batch_normalization_6 (Batc  (None, 256)              1024      \n",
            " hNormalization)                                                 \n",
            "                                                                 \n",
            " dropout_2 (Dropout)         (None, 256)               0         \n",
            "                                                                 \n",
            " dense_1 (Dense)             (None, 10)                2570      \n",
            "                                                                 \n",
            "=================================================================\n",
            "Total params: 382,130\n",
            "Trainable params: 381,114\n",
            "Non-trainable params: 1,016\n",
            "_________________________________________________________________\n"
          ]
        }
      ]
    },
    {
      "cell_type": "markdown",
      "source": [
        "Gauss Noise"
      ],
      "metadata": {
        "id": "0hkd5_nNzG83"
      }
    },
    {
      "cell_type": "code",
      "source": [
        "#添加高斯噪声\n",
        "(X_train, y_train), (X_test, y_test) = mnist.load_data()\n",
        "mu = 0\n",
        "sigma = 150\n",
        "X_train = (X_train+np.random.normal(mu, sigma,size=X_train.shape))\n",
        "X_train[X_train < 0]=0\n",
        "X_train[X_train > 255]=255\n",
        "X_test = (X_test+np.random.normal(mu, sigma,size=X_test.shape))\n",
        "X_test[X_test < 0]=0\n",
        "X_test[X_test > 255]=255"
      ],
      "metadata": {
        "id": "lGP9YcwizcjP"
      },
      "execution_count": null,
      "outputs": []
    },
    {
      "cell_type": "code",
      "source": [
        "#调节椒盐噪声程度\n",
        "import matplotlib.pyplot as plt\n",
        "from keras.callbacks import LearningRateScheduler\n",
        "a = np.zeros(20)\n",
        "si=np.zeros(20)\n",
        "for sigmaa in range(20):\n",
        "  model = tf.keras.models.load_model('saved_model/my_model')\n",
        "  (X_train, y_train), (X_test, y_test) = mnist.load_data()\n",
        "  #visulization\n",
        "  mu = 0\n",
        "  sigma = 150-sigmaa*7.5\n",
        "  X_train = (X_train+np.random.normal(mu, sigma,size=X_train.shape))\n",
        "  X_train[X_train < 0]=0\n",
        "  X_train[X_train > 255]=255\n",
        "  X_test = (X_test+np.random.normal(mu, sigma,size=X_test.shape))\n",
        "  X_test[X_test < 0]=0\n",
        "  X_test[X_test > 255]=255\n",
        "  X_train = X_train.reshape(X_train.shape[0], img_rows, img_cols,1)\n",
        "  X_test = X_test.reshape(X_test.shape[0], img_rows, img_cols,1)\n",
        "  input_shape = (img_rows, img_cols,1)\n",
        "  X_train = X_train.astype('float32')\n",
        "  X_test = X_test.astype('float32')\n",
        "  X_train /= 255.0\n",
        "  X_test /= 255.0\n",
        "  Y_train = np_utils.to_categorical(y_train, nb_classes)\n",
        "  Y_test = np_utils.to_categorical(y_test, nb_classes)\n",
        "  annealer = LearningRateScheduler(lambda x: 1*1e-3 * 0.95 ** (x+60), verbose=0)\n",
        "  from keras.preprocessing.image import ImageDataGenerator\n",
        "  datagen = ImageDataGenerator(\n",
        "          rotation_range=5,  \n",
        "          zoom_range = 0.08, \n",
        "          shear_range=0.08, \n",
        "      \n",
        "          width_shift_range=0.0, \n",
        "          height_shift_range=0.0)\n",
        "  history = model.fit(datagen.flow(X_train,Y_train, batch_size=batch_size), epochs = 1, steps_per_epoch = X_train.shape[0]//batch_size,\n",
        "                                validation_data = (X_test,Y_test), callbacks=[annealer], verbose=1)\n",
        "  a[sigmaa] = history.history['val_accuracy'][0]\n",
        "  si[sigmaa] = 150-7.5*sigmaa\n",
        "plt.scatter(si,a)"
      ],
      "metadata": {
        "colab": {
          "base_uri": "https://localhost:8080/",
          "height": 632
        },
        "id": "WnjDh4L2x1b6",
        "outputId": "95fde4a9-b56a-4144-b8d1-4521b7c9a2bb"
      },
      "execution_count": 19,
      "outputs": [
        {
          "output_type": "stream",
          "name": "stdout",
          "text": [
            "468/468 [==============================] - 237s 503ms/step - loss: 0.7995 - accuracy: 0.8589 - val_loss: 0.4579 - val_accuracy: 0.9069 - lr: 4.6070e-05\n",
            "468/468 [==============================] - 233s 494ms/step - loss: 0.6729 - accuracy: 0.8758 - val_loss: 0.3521 - val_accuracy: 0.9242 - lr: 4.6070e-05\n",
            "468/468 [==============================] - 233s 493ms/step - loss: 0.5379 - accuracy: 0.8974 - val_loss: 0.3477 - val_accuracy: 0.9300 - lr: 4.6070e-05\n",
            "468/468 [==============================] - 235s 497ms/step - loss: 0.4085 - accuracy: 0.9188 - val_loss: 0.2572 - val_accuracy: 0.9447 - lr: 4.6070e-05\n",
            "468/468 [==============================] - 235s 497ms/step - loss: 0.3373 - accuracy: 0.9334 - val_loss: 0.1977 - val_accuracy: 0.9573 - lr: 4.6070e-05\n",
            "468/468 [==============================] - 231s 490ms/step - loss: 0.2543 - accuracy: 0.9469 - val_loss: 0.1722 - val_accuracy: 0.9623 - lr: 4.6070e-05\n",
            "468/468 [==============================] - 234s 495ms/step - loss: 0.1965 - accuracy: 0.9577 - val_loss: 0.1351 - val_accuracy: 0.9701 - lr: 4.6070e-05\n",
            "468/468 [==============================] - 234s 496ms/step - loss: 0.1396 - accuracy: 0.9687 - val_loss: 0.1021 - val_accuracy: 0.9777 - lr: 4.6070e-05\n",
            "468/468 [==============================] - 237s 502ms/step - loss: 0.1106 - accuracy: 0.9757 - val_loss: 0.0742 - val_accuracy: 0.9827 - lr: 4.6070e-05\n",
            "468/468 [==============================] - 236s 499ms/step - loss: 0.0787 - accuracy: 0.9817 - val_loss: 0.0723 - val_accuracy: 0.9850 - lr: 4.6070e-05\n",
            "468/468 [==============================] - 235s 498ms/step - loss: 0.0557 - accuracy: 0.9868 - val_loss: 0.0559 - val_accuracy: 0.9878 - lr: 4.6070e-05\n",
            "468/468 [==============================] - 236s 498ms/step - loss: 0.0382 - accuracy: 0.9906 - val_loss: 0.0439 - val_accuracy: 0.9901 - lr: 4.6070e-05\n",
            "468/468 [==============================] - 234s 495ms/step - loss: 0.0275 - accuracy: 0.9928 - val_loss: 0.0341 - val_accuracy: 0.9922 - lr: 4.6070e-05\n",
            "468/468 [==============================] - 235s 498ms/step - loss: 0.0191 - accuracy: 0.9948 - val_loss: 0.0267 - val_accuracy: 0.9944 - lr: 4.6070e-05\n",
            "468/468 [==============================] - 234s 495ms/step - loss: 0.0124 - accuracy: 0.9964 - val_loss: 0.0267 - val_accuracy: 0.9947 - lr: 4.6070e-05\n",
            "468/468 [==============================] - 235s 497ms/step - loss: 0.0089 - accuracy: 0.9974 - val_loss: 0.0223 - val_accuracy: 0.9950 - lr: 4.6070e-05\n",
            "468/468 [==============================] - 235s 498ms/step - loss: 0.0064 - accuracy: 0.9979 - val_loss: 0.0193 - val_accuracy: 0.9957 - lr: 4.6070e-05\n",
            "468/468 [==============================] - 233s 494ms/step - loss: 0.0046 - accuracy: 0.9984 - val_loss: 0.0181 - val_accuracy: 0.9966 - lr: 4.6070e-05\n",
            "468/468 [==============================] - 234s 495ms/step - loss: 0.0039 - accuracy: 0.9987 - val_loss: 0.0180 - val_accuracy: 0.9961 - lr: 4.6070e-05\n",
            "468/468 [==============================] - 233s 495ms/step - loss: 0.0031 - accuracy: 0.9989 - val_loss: 0.0173 - val_accuracy: 0.9967 - lr: 4.6070e-05\n"
          ]
        },
        {
          "output_type": "execute_result",
          "data": {
            "text/plain": [
              "<matplotlib.collections.PathCollection at 0x7f844df10fd0>"
            ]
          },
          "metadata": {},
          "execution_count": 19
        },
        {
          "output_type": "display_data",
          "data": {
            "image/png": "[encoded data removed]",
            "text/plain": [
              "<Figure size 432x288 with 1 Axes>"
            ]
          },
          "metadata": {
            "needs_background": "light"
          }
        }
      ]
    },
    {
      "cell_type": "code",
      "source": [
        "plt.xlabel('Gauss_sigma')\n",
        "plt.ylabel('Accuracy')\n",
        "plt.scatter(si,a)"
      ],
      "metadata": {
        "colab": {
          "base_uri": "https://localhost:8080/",
          "height": 299
        },
        "id": "3Q0GAu5b2HTl",
        "outputId": "e6215075-e752-4034-8dfd-ce7f0e878899"
      },
      "execution_count": 20,
      "outputs": [
        {
          "output_type": "execute_result",
          "data": {
            "text/plain": [
              "<matplotlib.collections.PathCollection at 0x7f844df2d950>"
            ]
          },
          "metadata": {},
          "execution_count": 20
        },
        {
          "output_type": "display_data",
          "data": {
            "image/png": "[encoded data removed]",
            "text/plain": [
              "<Figure size 432x288 with 1 Axes>"
            ]
          },
          "metadata": {
            "needs_background": "light"
          }
        }
      ]
    },
    {
      "cell_type": "markdown",
      "source": [
        "Salt Pepper Noise"
      ],
      "metadata": {
        "id": "Eg0_-0E_zhi8"
      }
    },
    {
      "cell_type": "code",
      "source": [
        "#添加椒盐噪声\n",
        "(X_train, y_train), (X_test, y_test) = mnist.load_data()\n",
        "mu = 0\n",
        "sigma = 50\n",
        "A = (np.random.normal(mu, sigma,size=X_train.shape))\n",
        "X_train[A < -50/1.05]=0\n",
        "X_train[A > 50/1.05]=255\n",
        "B = (np.random.normal(mu, sigma,size=X_test.shape))\n",
        "X_test[B < -50/1.05]=0\n",
        "X_test[B > 50/1.05]=255"
      ],
      "metadata": {
        "id": "_1XX4o6vzefq"
      },
      "execution_count": null,
      "outputs": []
    },
    {
      "cell_type": "code",
      "source": [
        "#调节椒盐噪声程度\n",
        "import matplotlib.pyplot as plt\n",
        "from keras.callbacks import LearningRateScheduler\n",
        "a = np.zeros(20)\n",
        "si=np.zeros(20)\n",
        "for sigmaa in range(20):\n",
        "  model = tf.keras.models.load_model('saved_model/my_model')\n",
        "  (X_train, y_train), (X_test, y_test) = mnist.load_data()\n",
        "  #visulization\n",
        "  mu = 0\n",
        "  sigma = 50\n",
        "  salt = 1.05-sigmaa*0.05\n",
        "  A = (np.random.normal(mu, sigma,size=X_train.shape))\n",
        "  X_train[A < -1/salt*sigma]=0\n",
        "  X_train[A > 1/salt*sigma]=255\n",
        "  B = (np.random.normal(mu, sigma,size=X_test.shape))\n",
        "  X_test[B < -1/salt*sigma]=0\n",
        "  X_test[B > 1/salt*sigma]=255\n",
        "  X_train = X_train.reshape(X_train.shape[0], img_rows, img_cols,1)\n",
        "  X_test = X_test.reshape(X_test.shape[0], img_rows, img_cols,1)\n",
        "  input_shape = (img_rows, img_cols,1)\n",
        "  X_train = X_train.astype('float32')\n",
        "  X_test = X_test.astype('float32')\n",
        "  X_train /= 255.0\n",
        "  X_test /= 255.0\n",
        "  Y_train = np_utils.to_categorical(y_train, nb_classes)\n",
        "  Y_test = np_utils.to_categorical(y_test, nb_classes)\n",
        "  annealer = LearningRateScheduler(lambda x: 1*1e-3 * 0.95 ** (x+60), verbose=0)\n",
        "  from keras.preprocessing.image import ImageDataGenerator\n",
        "  datagen = ImageDataGenerator(\n",
        "          rotation_range=5,  \n",
        "          zoom_range = 0.08, \n",
        "          shear_range=0.08, \n",
        "      \n",
        "          width_shift_range=0.0, \n",
        "          height_shift_range=0.0)\n",
        "  history = model.fit(datagen.flow(X_train,Y_train, batch_size=batch_size), epochs = 1, steps_per_epoch = X_train.shape[0]//batch_size,\n",
        "                                validation_data = (X_test,Y_test), callbacks=[annealer], verbose=1)\n",
        "  a[sigmaa] = history.history['val_accuracy'][0]\n",
        "  si[sigmaa] = 1.05-0.05*sigmaa\n",
        "plt.xlabel('salt and pepper beta')\n",
        "plt.ylabel('Accuracy')\n",
        "plt.scatter(si,a)"
      ],
      "metadata": {
        "id": "iShjVLT_zwvL"
      },
      "execution_count": null,
      "outputs": []
    },
    {
      "cell_type": "markdown",
      "source": [
        "Blocking"
      ],
      "metadata": {
        "id": "WnrpVIMGz285"
      }
    },
    {
      "cell_type": "code",
      "source": [
        "#添加局部遮挡\n",
        "from PIL import Image, ImageDraw\n",
        "(X_train, y_train), (X_test, y_test) = mnist.load_data()\n",
        "\n",
        "pixel = 10#设置局部遮挡的黑块尺寸\n",
        "halfpixel = pixel//2\n",
        "for k in range(len(X_train)):\n",
        "  oo = random.randint(halfpixel,27-halfpixel)\n",
        "  kk = random.randint(halfpixel,27-halfpixel)#局部遮挡的位置随机\n",
        "  for i in range(pixel):\n",
        "    for j in range(pixel):\n",
        "      X_train[k][oo-halfpixel+i][kk-halfpixel+j] = 0\n",
        "\n",
        "for k in range(len(X_test)):\n",
        "  oo = random.randint(halfpixel,27-halfpixel)\n",
        "  kk = random.randint(halfpixel,27-halfpixel)\n",
        "  for i in range(pixel):\n",
        "    for j in range(pixel):\n",
        "      X_test[k][oo-halfpixel+i][kk-halfpixel+j] = 0"
      ],
      "metadata": {
        "id": "CaIfVBsXz5x6"
      },
      "execution_count": null,
      "outputs": []
    },
    {
      "cell_type": "code",
      "source": [
        "#调节黑块尺寸研究模型晃动\n",
        "import matplotlib.pyplot as plt\n",
        "from keras.callbacks import LearningRateScheduler\n",
        "a = np.zeros(20)\n",
        "si=np.zeros(20)\n",
        "for sigmaa in range(20):\n",
        "  model = tf.keras.models.load_model('saved_model/my_model')\n",
        "  (X_train, y_train), (X_test, y_test) = mnist.load_data()\n",
        "  salt = 1.05-sigmaa*0.05\n",
        "  A = (np.random.normal(mu, sigma,size=X_train.shape))\n",
        "  X_train[A < -1/salt*sigma]=0\n",
        "  X_train[A > 1/salt*sigma]=255\n",
        "  B = (np.random.normal(mu, sigma,size=X_test.shape))\n",
        "  X_test[B < -1/salt*sigma]=0\n",
        "  X_test[B > 1/salt*sigma]=255\n",
        "  X_train = X_train.reshape(X_train.shape[0], img_rows, img_cols,1)\n",
        "  X_test = X_test.reshape(X_test.shape[0], img_rows, img_cols,1)\n",
        "  input_shape = (img_rows, img_cols,1)\n",
        "  X_train = X_train.astype('float32')\n",
        "  X_test = X_test.astype('float32')\n",
        "  X_train /= 255.0\n",
        "  X_test /= 255.0\n",
        "  Y_train = np_utils.to_categorical(y_train, nb_classes)\n",
        "  Y_test = np_utils.to_categorical(y_test, nb_classes)\n",
        "  annealer = LearningRateScheduler(lambda x: 1*1e-3 * 0.95 ** (x+60), verbose=0)\n",
        "  from keras.preprocessing.image import ImageDataGenerator\n",
        "  datagen = ImageDataGenerator(\n",
        "          rotation_range=5,  \n",
        "          zoom_range = 0.08, \n",
        "          shear_range=0.08, \n",
        "      \n",
        "          width_shift_range=0.0, \n",
        "          height_shift_range=0.0)\n",
        "  history = model.fit(datagen.flow(X_train,Y_train, batch_size=batch_size), epochs = 1, steps_per_epoch = X_train.shape[0]//batch_size,\n",
        "                                validation_data = (X_test,Y_test), callbacks=[annealer], verbose=1)\n",
        "  a[sigmaa] = history.history['val_accuracy'][0]\n",
        "  si[sigmaa] = 1.05-0.05*sigmaa\n",
        "plt.xlabel('salt and pepper beta')\n",
        "plt.ylabel('Accuracy')\n",
        "plt.scatter(si,a)"
      ],
      "metadata": {
        "id": "cwshrujJ0Gkx"
      },
      "execution_count": null,
      "outputs": []
    }
  ]
}